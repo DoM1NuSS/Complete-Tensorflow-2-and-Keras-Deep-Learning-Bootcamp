{
 "cells": [
  {
   "cell_type": "code",
   "execution_count": 1,
   "id": "initial_id",
   "metadata": {
    "collapsed": true,
    "ExecuteTime": {
     "end_time": "2025-02-12T06:47:01.956213500Z",
     "start_time": "2025-02-12T06:46:57.457690600Z"
    }
   },
   "outputs": [],
   "source": [
    "import tensorflow as tf"
   ]
  },
  {
   "cell_type": "code",
   "outputs": [],
   "source": [
    "hello = tf.constant(\"hello world\")"
   ],
   "metadata": {
    "collapsed": false,
    "ExecuteTime": {
     "end_time": "2025-02-12T06:47:52.919415300Z",
     "start_time": "2025-02-12T06:47:52.907992500Z"
    }
   },
   "id": "3f5e709d353fcc64",
   "execution_count": 5
  },
  {
   "cell_type": "code",
   "outputs": [
    {
     "ename": "AttributeError",
     "evalue": "module 'tensorflow' has no attribute 'Session'",
     "output_type": "error",
     "traceback": [
      "\u001B[1;31m---------------------------------------------------------------------------\u001B[0m",
      "\u001B[1;31mAttributeError\u001B[0m                            Traceback (most recent call last)",
      "Cell \u001B[1;32mIn[6], line 1\u001B[0m\n\u001B[1;32m----> 1\u001B[0m sess \u001B[38;5;241m=\u001B[39m \u001B[43mtf\u001B[49m\u001B[38;5;241;43m.\u001B[39;49m\u001B[43mSession\u001B[49m()\n",
      "\u001B[1;31mAttributeError\u001B[0m: module 'tensorflow' has no attribute 'Session'"
     ]
    }
   ],
   "source": [
    "sess = tf.Session()"
   ],
   "metadata": {
    "collapsed": false,
    "ExecuteTime": {
     "end_time": "2025-02-12T06:47:58.612920200Z",
     "start_time": "2025-02-12T06:47:58.599696400Z"
    }
   },
   "id": "b813829750ed998d",
   "execution_count": 6
  },
  {
   "cell_type": "code",
   "outputs": [
    {
     "ename": "NameError",
     "evalue": "name 'sess' is not defined",
     "output_type": "error",
     "traceback": [
      "\u001B[1;31m---------------------------------------------------------------------------\u001B[0m",
      "\u001B[1;31mNameError\u001B[0m                                 Traceback (most recent call last)",
      "Cell \u001B[1;32mIn[7], line 1\u001B[0m\n\u001B[1;32m----> 1\u001B[0m \u001B[38;5;28mprint\u001B[39m(\u001B[43msess\u001B[49m\u001B[38;5;241m.\u001B[39mrun(hello))\n",
      "\u001B[1;31mNameError\u001B[0m: name 'sess' is not defined"
     ]
    }
   ],
   "source": [
    "print(sess.run(hello))"
   ],
   "metadata": {
    "collapsed": false,
    "ExecuteTime": {
     "end_time": "2025-02-12T06:48:07.038845Z",
     "start_time": "2025-02-12T06:48:07.016944600Z"
    }
   },
   "id": "19c3f577656d172e",
   "execution_count": 7
  },
  {
   "cell_type": "code",
   "outputs": [
    {
     "name": "stdout",
     "output_type": "stream",
     "text": [
      "2.18.0\n"
     ]
    }
   ],
   "source": [
    "print(tf.__version__)"
   ],
   "metadata": {
    "collapsed": false,
    "ExecuteTime": {
     "end_time": "2025-02-12T06:50:42.017663200Z",
     "start_time": "2025-02-12T06:50:42.000025200Z"
    }
   },
   "id": "75cbdfb2174a1ab4",
   "execution_count": 8
  },
  {
   "cell_type": "code",
   "outputs": [],
   "source": [
    "import numpy as np"
   ],
   "metadata": {
    "collapsed": false,
    "ExecuteTime": {
     "end_time": "2025-02-13T09:36:05.628310Z",
     "start_time": "2025-02-13T09:36:05.187360Z"
    }
   },
   "id": "585ebbbcf371d88",
   "execution_count": 2
  },
  {
   "cell_type": "code",
   "outputs": [
    {
     "data": {
      "text/plain": "array([1, 2, 3])"
     },
     "execution_count": 4,
     "metadata": {},
     "output_type": "execute_result"
    }
   ],
   "source": [
    "mylist =  [1,2,3] #klasicna python lista\n",
    "#numpy array\n",
    "np.array(mylist)\n"
   ],
   "metadata": {
    "collapsed": false,
    "ExecuteTime": {
     "end_time": "2025-02-12T13:55:30.695022400Z",
     "start_time": "2025-02-12T13:55:30.685556700Z"
    }
   },
   "id": "d36ac3e9e6c72f24",
   "execution_count": 4
  },
  {
   "cell_type": "code",
   "outputs": [
    {
     "data": {
      "text/plain": "array([[1, 2],\n       [3, 4],\n       [5, 6]])"
     },
     "execution_count": 7,
     "metadata": {},
     "output_type": "execute_result"
    }
   ],
   "source": [
    "nested_list = [[1,2],[3,4], [5,6]]\n",
    "np.array(nested_list) # kreira matricu 3x2 tj. dvodimenzionalnu matricu"
   ],
   "metadata": {
    "collapsed": false,
    "ExecuteTime": {
     "end_time": "2025-02-12T13:57:30.200807100Z",
     "start_time": "2025-02-12T13:57:30.192025900Z"
    }
   },
   "id": "69d87386643107af",
   "execution_count": 7
  },
  {
   "cell_type": "code",
   "outputs": [
    {
     "data": {
      "text/plain": "array([[1., 0., 0., 0.],\n       [0., 1., 0., 0.],\n       [0., 0., 1., 0.],\n       [0., 0., 0., 1.]])"
     },
     "execution_count": 14,
     "metadata": {},
     "output_type": "execute_result"
    }
   ],
   "source": [
    "np.arange(0,10) #kreiranje niza (start, stop, korak)\n",
    "np.arange(0,10,2) # kreira niz od 0 do 10 sa korakom 2\n",
    "np.zeros(3) # kreira niz od 3 elementa sa nulama\n",
    "np.zeros((3,3)) # kreira matricu 3x3 redovi x kolone\n",
    "np.ones(3)  #kreira vektor jedinica\n",
    "np.ones((3,3))  #kreira matricu 3x3\n",
    "np.linspace(0,10,3) #vraca broj elemenata ravnopravno rasporedjenih, primer: izmedju 0 i 10 vratice 3 elementa izmedju 0 i 10 sa jednakim razmakom ukljucujuci i krajnju vrednost\n",
    "#linspace - linear space izmedju tacaka\n",
    "np.eye(4) # vraca matricu sa nulama svuda osim na glavnoj dijagonali gde su jedinice"
   ],
   "metadata": {
    "collapsed": false,
    "ExecuteTime": {
     "end_time": "2025-02-12T17:02:03.010905900Z",
     "start_time": "2025-02-12T17:02:02.984714100Z"
    }
   },
   "id": "39ee084749f60592",
   "execution_count": 14
  },
  {
   "cell_type": "code",
   "outputs": [
    {
     "data": {
      "text/plain": "array([[0.37454012, 0.95071431, 0.73199394, 0.59865848],\n       [0.15601864, 0.15599452, 0.05808361, 0.86617615],\n       [0.60111501, 0.70807258, 0.02058449, 0.96990985],\n       [0.83244264, 0.21233911, 0.18182497, 0.18340451]])"
     },
     "execution_count": 26,
     "metadata": {},
     "output_type": "execute_result"
    }
   ],
   "source": [
    "#Generisanje random stvari u NumPy\n",
    "np.random.rand(2) #vraca 2 random broja sa uniformnom distribucijom izmedju 0 i 1\n",
    "np.random.rand(3,4) #vraca matricu izmedju 0 i 1 3x4 uniformno distribucijom\n",
    "np.random.randn(3,3) #vraca normalno distribuisanu sa srednjom vrednoscu 0 i varijansom 1\n",
    "np.random.randint(0,100,10) #lowest vrednost(moguce da bude izabrana), highest vrednost(nije moguce da bude izabrana) i broj brojeva\n",
    "np.random.seed(42)  #seed sa brojem 42 ce uvek kada se pokrene generisati iste brojeve\n",
    "np.random.rand(4,4) #svaki put ce dati istu vrednost"
   ],
   "metadata": {
    "collapsed": false,
    "ExecuteTime": {
     "end_time": "2025-02-12T17:14:25.781451600Z",
     "start_time": "2025-02-12T17:14:25.761436900Z"
    }
   },
   "id": "c7d0d8d2e92e6fe",
   "execution_count": 26
  },
  {
   "cell_type": "code",
   "outputs": [],
   "source": [
    "arr = np.arange(25)"
   ],
   "metadata": {
    "collapsed": false,
    "ExecuteTime": {
     "end_time": "2025-02-12T17:15:21.931921600Z",
     "start_time": "2025-02-12T17:15:21.903655600Z"
    }
   },
   "id": "810230bd57b109f7",
   "execution_count": 27
  },
  {
   "cell_type": "code",
   "outputs": [],
   "source": [
    "ranarr = np.random.randint(0,50,10) "
   ],
   "metadata": {
    "collapsed": false,
    "ExecuteTime": {
     "end_time": "2025-02-12T17:16:20.404156800Z",
     "start_time": "2025-02-12T17:16:20.372587Z"
    }
   },
   "id": "6603260eb79df5b4",
   "execution_count": 31
  },
  {
   "cell_type": "code",
   "outputs": [
    {
     "data": {
      "text/plain": "array([ 0,  1,  2,  3,  4,  5,  6,  7,  8,  9, 10, 11, 12, 13, 14, 15, 16,\n       17, 18, 19, 20, 21, 22, 23, 24])"
     },
     "execution_count": 32,
     "metadata": {},
     "output_type": "execute_result"
    }
   ],
   "source": [
    "arr"
   ],
   "metadata": {
    "collapsed": false,
    "ExecuteTime": {
     "end_time": "2025-02-12T17:17:02.735042100Z",
     "start_time": "2025-02-12T17:17:02.708526100Z"
    }
   },
   "id": "f5b4b512964b5d6d",
   "execution_count": 32
  },
  {
   "cell_type": "code",
   "outputs": [
    {
     "data": {
      "text/plain": "array([46, 43,  2, 36,  6, 20,  8, 38, 17,  3], dtype=int32)"
     },
     "execution_count": 33,
     "metadata": {},
     "output_type": "execute_result"
    }
   ],
   "source": [
    "ranarr"
   ],
   "metadata": {
    "collapsed": false,
    "ExecuteTime": {
     "end_time": "2025-02-12T17:17:05.413666300Z",
     "start_time": "2025-02-12T17:17:05.399862900Z"
    }
   },
   "id": "97e817b8528af104",
   "execution_count": 33
  },
  {
   "cell_type": "code",
   "outputs": [
    {
     "data": {
      "text/plain": "(25,)"
     },
     "execution_count": 34,
     "metadata": {},
     "output_type": "execute_result"
    }
   ],
   "source": [
    "arr.shape   #kaze da ima samo niz od 25 brojeva"
   ],
   "metadata": {
    "collapsed": false,
    "ExecuteTime": {
     "end_time": "2025-02-12T17:17:26.583171400Z",
     "start_time": "2025-02-12T17:17:26.521553900Z"
    }
   },
   "id": "bceb3289a8f88040",
   "execution_count": 34
  },
  {
   "cell_type": "code",
   "outputs": [
    {
     "data": {
      "text/plain": "array([[ 0,  1,  2,  3,  4],\n       [ 5,  6,  7,  8,  9],\n       [10, 11, 12, 13, 14],\n       [15, 16, 17, 18, 19],\n       [20, 21, 22, 23, 24]])"
     },
     "execution_count": 35,
     "metadata": {},
     "output_type": "execute_result"
    }
   ],
   "source": [
    "arr.reshape(5,5) #menja joj izgled tj. oblik u 5x5 matricu, ali ne menja originalan objekat arr\n",
    "#ako se pokusa da se nesto reshape na 3x6 sa 5x5 dobice se greska jer se nema mesta za sve elemente"
   ],
   "metadata": {
    "collapsed": false,
    "ExecuteTime": {
     "end_time": "2025-02-12T17:18:49.817181Z",
     "start_time": "2025-02-12T17:18:49.796438900Z"
    }
   },
   "id": "2fb0224d4b6c2430",
   "execution_count": 35
  },
  {
   "cell_type": "code",
   "outputs": [
    {
     "data": {
      "text/plain": "np.int64(0)"
     },
     "execution_count": 37,
     "metadata": {},
     "output_type": "execute_result"
    }
   ],
   "source": [
    "ranarr.max() #vraca maximalan element\n",
    "ranarr.argmax()  #vraca index najveceg elementa\n",
    "ranarr.argmin() #vraca index najmanjeg elementa"
   ],
   "metadata": {
    "collapsed": false,
    "ExecuteTime": {
     "end_time": "2025-02-12T17:21:37.893637700Z",
     "start_time": "2025-02-12T17:21:37.869033600Z"
    }
   },
   "id": "da118590cdd9c068",
   "execution_count": 37
  },
  {
   "cell_type": "code",
   "outputs": [
    {
     "data": {
      "text/plain": "array([0, 1, 2, 3, 4])"
     },
     "execution_count": 3,
     "metadata": {},
     "output_type": "execute_result"
    }
   ],
   "source": [
    "arr = np.arange(0,11) #kreira niz od 0 do 10\n",
    "arr[8] #vraca element na indexu 8\n",
    "arr[:5] #vraca niz od 0 indexa do 5 indexa ako je [:5] krece od pocetka do 5. indexa\n",
    "arr[5:] #vraca od 5 indexa do kraja"
   ],
   "metadata": {
    "collapsed": false,
    "ExecuteTime": {
     "end_time": "2025-02-13T09:36:32.402984300Z",
     "start_time": "2025-02-13T09:36:32.372136500Z"
    }
   },
   "id": "f6fa18121f22fb9f",
   "execution_count": 3
  },
  {
   "cell_type": "code",
   "outputs": [],
   "source": [
    "arr[0:5] = 100"
   ],
   "metadata": {
    "collapsed": false,
    "ExecuteTime": {
     "end_time": "2025-02-13T09:50:20.273200100Z",
     "start_time": "2025-02-13T09:50:20.235977900Z"
    }
   },
   "id": "6942f7d3c7cb0f53",
   "execution_count": 4
  },
  {
   "cell_type": "code",
   "outputs": [
    {
     "data": {
      "text/plain": "array([100, 100, 100, 100, 100,   5,   6,   7,   8,   9,  10])"
     },
     "execution_count": 5,
     "metadata": {},
     "output_type": "execute_result"
    }
   ],
   "source": [
    "arr"
   ],
   "metadata": {
    "collapsed": false,
    "ExecuteTime": {
     "end_time": "2025-02-13T09:50:21.994697100Z",
     "start_time": "2025-02-13T09:50:21.965120300Z"
    }
   },
   "id": "87bf2cb75fde557d",
   "execution_count": 5
  },
  {
   "cell_type": "code",
   "outputs": [
    {
     "name": "stdout",
     "output_type": "stream",
     "text": [
      "[[ 5 10 15]\n",
      " [20 25 30]\n",
      " [35 40 45]]\n",
      "(3, 3)\n",
      "[ 5 10 15]\n"
     ]
    }
   ],
   "source": [
    "arr_2d = np.array([[5,10,15], [20,25,30], [35,40,45]])\n",
    "print(arr_2d)\n",
    "print(arr_2d.shape)\n",
    "print(arr_2d[0])"
   ],
   "metadata": {
    "collapsed": false,
    "ExecuteTime": {
     "end_time": "2025-02-13T09:55:39.459323200Z",
     "start_time": "2025-02-13T09:55:39.433977500Z"
    }
   },
   "id": "16b12a9c48128794",
   "execution_count": 14
  },
  {
   "cell_type": "code",
   "outputs": [
    {
     "data": {
      "text/plain": "array([[ 5, 10, 15],\n       [20, 25, 30],\n       [35, 40, 45]])"
     },
     "execution_count": 15,
     "metadata": {},
     "output_type": "execute_result"
    }
   ],
   "source": [
    "arr_2d"
   ],
   "metadata": {
    "collapsed": false,
    "ExecuteTime": {
     "end_time": "2025-02-13T09:55:40.944154700Z",
     "start_time": "2025-02-13T09:55:40.928187800Z"
    }
   },
   "id": "bc3b280c85a4d434",
   "execution_count": 15
  },
  {
   "cell_type": "code",
   "outputs": [
    {
     "name": "stdout",
     "output_type": "stream",
     "text": [
      "15\n"
     ]
    },
    {
     "data": {
      "text/plain": "array([[10, 15],\n       [25, 30]])"
     },
     "execution_count": 21,
     "metadata": {},
     "output_type": "execute_result"
    }
   ],
   "source": [
    "print(arr_2d[0,2])  #vadimo red, kolona\n",
    "arr_2d[:2,1:]   #vratice na matricu 2x2, tako sto prvi parametar vraca prva dva reda (bez indexa 2), a drugi parametar vraca (kolone od 1 pa do kraja)"
   ],
   "metadata": {
    "collapsed": false,
    "ExecuteTime": {
     "end_time": "2025-02-13T09:58:06.514437Z",
     "start_time": "2025-02-13T09:58:06.496540100Z"
    }
   },
   "id": "9d5d68146ba81323",
   "execution_count": 21
  },
  {
   "cell_type": "code",
   "outputs": [
    {
     "data": {
      "text/plain": "array([ 1,  2,  3,  4,  5,  6,  7,  8,  9, 10])"
     },
     "execution_count": 22,
     "metadata": {},
     "output_type": "execute_result"
    }
   ],
   "source": [
    "#Conditional selecting\n",
    "arr = np.arange(1,11)\n",
    "arr"
   ],
   "metadata": {
    "collapsed": false,
    "ExecuteTime": {
     "end_time": "2025-02-13T09:59:18.551104100Z",
     "start_time": "2025-02-13T09:59:18.501841400Z"
    }
   },
   "id": "687c3253713037b7",
   "execution_count": 22
  },
  {
   "cell_type": "code",
   "outputs": [
    {
     "name": "stdout",
     "output_type": "stream",
     "text": [
      "[False False False False  True  True  True  True  True  True]\n"
     ]
    },
    {
     "data": {
      "text/plain": "array([ 5,  6,  7,  8,  9, 10])"
     },
     "execution_count": 27,
     "metadata": {},
     "output_type": "execute_result"
    }
   ],
   "source": [
    "arr > 4 #Vraca niz boolean vrednosti u kojima kaze gde su vrednosti vece od 4\n",
    "bool_arr = arr > 4  \n",
    "print(bool_arr)\n",
    "arr[bool_arr]   #Vraca niz gde su elementi sve vece od True\n",
    "\n",
    "arr[arr>4]  #Ova sintaksa takodje radi"
   ],
   "metadata": {
    "collapsed": false,
    "ExecuteTime": {
     "end_time": "2025-02-13T14:17:22.437763900Z",
     "start_time": "2025-02-13T14:17:22.422871100Z"
    }
   },
   "id": "ac1d9f17dc2ee9d4",
   "execution_count": 27
  },
  {
   "cell_type": "code",
   "outputs": [
    {
     "name": "stderr",
     "output_type": "stream",
     "text": [
      "C:\\Users\\Windows\\AppData\\Local\\Temp\\ipykernel_1840\\2502121371.py:6: RuntimeWarning: invalid value encountered in divide\n",
      "  arr / arr\n"
     ]
    },
    {
     "data": {
      "text/plain": "array([nan,  1.,  1.,  1.,  1.,  1.,  1.,  1.,  1.,  1.])"
     },
     "execution_count": 32,
     "metadata": {},
     "output_type": "execute_result"
    }
   ],
   "source": [
    "arr = np.arange(0,10)\n",
    "arr + 5\n",
    "arr + arr \n",
    "arr * arr\n",
    "arr - arr #Sve ove operacije rade\n",
    "arr / arr\n",
    "#Numpy ce dopustiti deljenje sa nulom. Vratice Warning i dace rezultat kao NaN ili inf (beskonacno)"
   ],
   "metadata": {
    "collapsed": false,
    "ExecuteTime": {
     "end_time": "2025-02-13T14:21:55.004357200Z",
     "start_time": "2025-02-13T14:21:54.992356700Z"
    }
   },
   "id": "d0d590d42e3f197e",
   "execution_count": 32
  },
  {
   "cell_type": "code",
   "outputs": [
    {
     "data": {
      "text/plain": "array([0.        , 1.        , 1.41421356, 1.73205081, 2.        ,\n       2.23606798, 2.44948974, 2.64575131, 2.82842712, 3.        ])"
     },
     "execution_count": 34,
     "metadata": {},
     "output_type": "execute_result"
    }
   ],
   "source": [
    "arr = np.arange(0,10)\n",
    "np.sqrt(arr)"
   ],
   "metadata": {
    "collapsed": false,
    "ExecuteTime": {
     "end_time": "2025-02-13T14:22:16.582201600Z",
     "start_time": "2025-02-13T14:22:16.564695400Z"
    }
   },
   "id": "1fdaa13a7c2c09d2",
   "execution_count": 34
  },
  {
   "cell_type": "code",
   "outputs": [
    {
     "data": {
      "text/plain": "np.float64(2.8722813232690143)"
     },
     "execution_count": 36,
     "metadata": {},
     "output_type": "execute_result"
    }
   ],
   "source": [
    "arr.var() #Varijansa\n",
    "arr.std() #Standardna devijacija"
   ],
   "metadata": {
    "collapsed": false,
    "ExecuteTime": {
     "end_time": "2025-02-13T14:23:47.888454900Z",
     "start_time": "2025-02-13T14:23:47.873432900Z"
    }
   },
   "id": "526fb62ea5200e7b",
   "execution_count": 36
  },
  {
   "cell_type": "code",
   "outputs": [
    {
     "data": {
      "text/plain": "array([50, 55, 60, 65, 70])"
     },
     "execution_count": 45,
     "metadata": {},
     "output_type": "execute_result"
    }
   ],
   "source": [
    "arr_2d = np.arange(0,25).reshape(5,5)\n",
    "arr_2d.sum(axis=0) #Ovo ce uraditi za svaki red operaciju sum, odnosno sabira svaku vrednost u redu i, pa redu i+1...\n",
    "#Operation across row axis = 0, Operation across columns axis = 1"
   ],
   "metadata": {
    "collapsed": false,
    "ExecuteTime": {
     "end_time": "2025-02-13T14:29:07.069360500Z",
     "start_time": "2025-02-13T14:29:07.052751800Z"
    }
   },
   "id": "d3e05a8575660fbb",
   "execution_count": 45
  },
  {
   "cell_type": "code",
   "outputs": [
    {
     "data": {
      "text/plain": "array([[ 0,  1,  2,  3,  4],\n       [ 5,  6,  7,  8,  9],\n       [10, 11, 12, 13, 14],\n       [15, 16, 17, 18, 19],\n       [20, 21, 22, 23, 24]])"
     },
     "execution_count": 41,
     "metadata": {},
     "output_type": "execute_result"
    }
   ],
   "source": [
    "arr_2d"
   ],
   "metadata": {
    "collapsed": false,
    "ExecuteTime": {
     "end_time": "2025-02-13T14:26:03.651906800Z",
     "start_time": "2025-02-13T14:26:03.641954900Z"
    }
   },
   "id": "18d5b5189d83d5dc",
   "execution_count": 41
  },
  {
   "cell_type": "code",
   "outputs": [],
   "source": [],
   "metadata": {
    "collapsed": false
   },
   "id": "12b5e1bb3129a839"
  }
 ],
 "metadata": {
  "kernelspec": {
   "display_name": "Python 3",
   "language": "python",
   "name": "python3"
  },
  "language_info": {
   "codemirror_mode": {
    "name": "ipython",
    "version": 2
   },
   "file_extension": ".py",
   "mimetype": "text/x-python",
   "name": "python",
   "nbconvert_exporter": "python",
   "pygments_lexer": "ipython2",
   "version": "2.7.6"
  }
 },
 "nbformat": 4,
 "nbformat_minor": 5
}
