{
 "cells": [
  {
   "cell_type": "code",
   "execution_count": null,
   "id": "initial_id",
   "metadata": {
    "collapsed": true
   },
   "outputs": [],
   "source": [
    "\"\"\"\"\n",
    "Koraci po redu:\n",
    "1. Dodavanje biblioteka\n",
    "2. Ucitavanje podataka\n",
    "3. Provera koliko ima praznih podataka po kolonama\n",
    "4. Overview podataka\n",
    "5. Crtanje podataka\n",
    "6. Trazenje korelacija izmedju podataka\n",
    "7. Igranje sa podacima\n",
    "8. Puno igranja sa podacima (Izbacivanje, modifikovanje)\n",
    "9. Razdvajanje kolone koje pogadjamo i atributa (X i y) + Train test split \n",
    "10. Normalizacija\n",
    "11. Kreiranje modela i dodavanje slojeva\n",
    "12. Treniranje\n",
    "13. Evaluacija nakon treniranja (plotovanje podataka loss-ova) i analiza\n",
    "14. Cross validacija\n",
    "15. Predikcija\n",
    "16. Evaluacija\n",
    "\"\"\""
   ]
  },
  {
   "cell_type": "code",
   "outputs": [],
   "source": [
    "# 1. Dodavanje biblioteka\n",
    "import pandas as pd\n",
    "import matplotlib.pyplot as plt\n",
    "import numpy as np\n",
    "import seaborn as sns\n",
    "\n"
   ],
   "metadata": {
    "collapsed": false,
    "ExecuteTime": {
     "end_time": "2025-03-08T14:49:11.545224100Z",
     "start_time": "2025-03-08T14:49:11.543218700Z"
    }
   },
   "id": "79e6157953d46986",
   "execution_count": 6
  },
  {
   "cell_type": "code",
   "outputs": [],
   "source": [
    "#Ucitavanje dataseta\n",
    "df = pd.read_csv('TF_2_Notebooks_and_Data/DATA/lending_club_loan_two.csv')\n",
    "df_info = pd.read_csv('TF_2_Notebooks_and_Data/DATA/lending_club_info.csv')"
   ],
   "metadata": {
    "collapsed": false,
    "ExecuteTime": {
     "end_time": "2025-03-08T16:04:51.994540700Z",
     "start_time": "2025-03-08T16:04:50.412754200Z"
    }
   },
   "id": "defc7b13a3b686a",
   "execution_count": 94
  },
  {
   "cell_type": "code",
   "outputs": [
    {
     "data": {
      "text/plain": "             LoanStatNew                                        Description\n0              loan_amnt  The listed amount of the loan applied for by t...\n1                   term  The number of payments on the loan. Values are...\n2               int_rate                          Interest Rate on the loan\n3            installment  The monthly payment owed by the borrower if th...\n4                  grade                             LC assigned loan grade\n5              sub_grade                          LC assigned loan subgrade\n6              emp_title  The job title supplied by the Borrower when ap...\n7             emp_length  Employment length in years. Possible values ar...\n8         home_ownership  The home ownership status provided by the borr...\n9             annual_inc  The self-reported annual income provided by th...\n10   verification_status  Indicates if income was verified by LC, not ve...\n11               issue_d                The month which the loan was funded\n12           loan_status                         Current status of the loan\n13               purpose  A category provided by the borrower for the lo...\n14                 title            The loan title provided by the borrower\n15              zip_code  The first 3 numbers of the zip code provided b...\n16            addr_state  The state provided by the borrower in the loan...\n17                   dti  A ratio calculated using the borrower’s total ...\n18      earliest_cr_line  The month the borrower's earliest reported cre...\n19              open_acc  The number of open credit lines in the borrowe...\n20               pub_rec                Number of derogatory public records\n21             revol_bal                     Total credit revolving balance\n22            revol_util  Revolving line utilization rate, or the amount...\n23             total_acc  The total number of credit lines currently in ...\n24   initial_list_status  The initial listing status of the loan. Possib...\n25      application_type  Indicates whether the loan is an individual ap...\n26              mort_acc                       Number of mortgage accounts.\n27  pub_rec_bankruptcies               Number of public record bankruptcies",
      "text/html": "<div>\n<style scoped>\n    .dataframe tbody tr th:only-of-type {\n        vertical-align: middle;\n    }\n\n    .dataframe tbody tr th {\n        vertical-align: top;\n    }\n\n    .dataframe thead th {\n        text-align: right;\n    }\n</style>\n<table border=\"1\" class=\"dataframe\">\n  <thead>\n    <tr style=\"text-align: right;\">\n      <th></th>\n      <th>LoanStatNew</th>\n      <th>Description</th>\n    </tr>\n  </thead>\n  <tbody>\n    <tr>\n      <th>0</th>\n      <td>loan_amnt</td>\n      <td>The listed amount of the loan applied for by t...</td>\n    </tr>\n    <tr>\n      <th>1</th>\n      <td>term</td>\n      <td>The number of payments on the loan. Values are...</td>\n    </tr>\n    <tr>\n      <th>2</th>\n      <td>int_rate</td>\n      <td>Interest Rate on the loan</td>\n    </tr>\n    <tr>\n      <th>3</th>\n      <td>installment</td>\n      <td>The monthly payment owed by the borrower if th...</td>\n    </tr>\n    <tr>\n      <th>4</th>\n      <td>grade</td>\n      <td>LC assigned loan grade</td>\n    </tr>\n    <tr>\n      <th>5</th>\n      <td>sub_grade</td>\n      <td>LC assigned loan subgrade</td>\n    </tr>\n    <tr>\n      <th>6</th>\n      <td>emp_title</td>\n      <td>The job title supplied by the Borrower when ap...</td>\n    </tr>\n    <tr>\n      <th>7</th>\n      <td>emp_length</td>\n      <td>Employment length in years. Possible values ar...</td>\n    </tr>\n    <tr>\n      <th>8</th>\n      <td>home_ownership</td>\n      <td>The home ownership status provided by the borr...</td>\n    </tr>\n    <tr>\n      <th>9</th>\n      <td>annual_inc</td>\n      <td>The self-reported annual income provided by th...</td>\n    </tr>\n    <tr>\n      <th>10</th>\n      <td>verification_status</td>\n      <td>Indicates if income was verified by LC, not ve...</td>\n    </tr>\n    <tr>\n      <th>11</th>\n      <td>issue_d</td>\n      <td>The month which the loan was funded</td>\n    </tr>\n    <tr>\n      <th>12</th>\n      <td>loan_status</td>\n      <td>Current status of the loan</td>\n    </tr>\n    <tr>\n      <th>13</th>\n      <td>purpose</td>\n      <td>A category provided by the borrower for the lo...</td>\n    </tr>\n    <tr>\n      <th>14</th>\n      <td>title</td>\n      <td>The loan title provided by the borrower</td>\n    </tr>\n    <tr>\n      <th>15</th>\n      <td>zip_code</td>\n      <td>The first 3 numbers of the zip code provided b...</td>\n    </tr>\n    <tr>\n      <th>16</th>\n      <td>addr_state</td>\n      <td>The state provided by the borrower in the loan...</td>\n    </tr>\n    <tr>\n      <th>17</th>\n      <td>dti</td>\n      <td>A ratio calculated using the borrower’s total ...</td>\n    </tr>\n    <tr>\n      <th>18</th>\n      <td>earliest_cr_line</td>\n      <td>The month the borrower's earliest reported cre...</td>\n    </tr>\n    <tr>\n      <th>19</th>\n      <td>open_acc</td>\n      <td>The number of open credit lines in the borrowe...</td>\n    </tr>\n    <tr>\n      <th>20</th>\n      <td>pub_rec</td>\n      <td>Number of derogatory public records</td>\n    </tr>\n    <tr>\n      <th>21</th>\n      <td>revol_bal</td>\n      <td>Total credit revolving balance</td>\n    </tr>\n    <tr>\n      <th>22</th>\n      <td>revol_util</td>\n      <td>Revolving line utilization rate, or the amount...</td>\n    </tr>\n    <tr>\n      <th>23</th>\n      <td>total_acc</td>\n      <td>The total number of credit lines currently in ...</td>\n    </tr>\n    <tr>\n      <th>24</th>\n      <td>initial_list_status</td>\n      <td>The initial listing status of the loan. Possib...</td>\n    </tr>\n    <tr>\n      <th>25</th>\n      <td>application_type</td>\n      <td>Indicates whether the loan is an individual ap...</td>\n    </tr>\n    <tr>\n      <th>26</th>\n      <td>mort_acc</td>\n      <td>Number of mortgage accounts.</td>\n    </tr>\n    <tr>\n      <th>27</th>\n      <td>pub_rec_bankruptcies</td>\n      <td>Number of public record bankruptcies</td>\n    </tr>\n  </tbody>\n</table>\n</div>"
     },
     "execution_count": 18,
     "metadata": {},
     "output_type": "execute_result"
    }
   ],
   "source": [
    "df_info"
   ],
   "metadata": {
    "collapsed": false,
    "ExecuteTime": {
     "end_time": "2025-03-08T14:53:30.917239300Z",
     "start_time": "2025-03-08T14:53:30.890682Z"
    }
   },
   "id": "12aef65c5558329c",
   "execution_count": 18
  },
  {
   "cell_type": "code",
   "outputs": [
    {
     "data": {
      "text/plain": "   loan_amnt        term  int_rate  installment grade sub_grade  \\\n0    10000.0   36 months     11.44       329.48     B        B4   \n1     8000.0   36 months     11.99       265.68     B        B5   \n2    15600.0   36 months     10.49       506.97     B        B3   \n3     7200.0   36 months      6.49       220.65     A        A2   \n4    24375.0   60 months     17.27       609.33     C        C5   \n\n                 emp_title emp_length home_ownership  annual_inc  ...  \\\n0                Marketing  10+ years           RENT    117000.0  ...   \n1          Credit analyst     4 years       MORTGAGE     65000.0  ...   \n2             Statistician   < 1 year           RENT     43057.0  ...   \n3          Client Advocate    6 years           RENT     54000.0  ...   \n4  Destiny Management Inc.    9 years       MORTGAGE     55000.0  ...   \n\n  open_acc pub_rec revol_bal revol_util total_acc  initial_list_status  \\\n0     16.0     0.0   36369.0       41.8      25.0                    w   \n1     17.0     0.0   20131.0       53.3      27.0                    f   \n2     13.0     0.0   11987.0       92.2      26.0                    f   \n3      6.0     0.0    5472.0       21.5      13.0                    f   \n4     13.0     0.0   24584.0       69.8      43.0                    f   \n\n  application_type  mort_acc  pub_rec_bankruptcies  \\\n0       INDIVIDUAL       0.0                   0.0   \n1       INDIVIDUAL       3.0                   0.0   \n2       INDIVIDUAL       0.0                   0.0   \n3       INDIVIDUAL       0.0                   0.0   \n4       INDIVIDUAL       1.0                   0.0   \n\n                                             address  \n0     0174 Michelle Gateway\\r\\nMendozaberg, OK 22690  \n1  1076 Carney Fort Apt. 347\\r\\nLoganmouth, SD 05113  \n2  87025 Mark Dale Apt. 269\\r\\nNew Sabrina, WV 05113  \n3            823 Reid Ford\\r\\nDelacruzside, MA 00813  \n4             679 Luna Roads\\r\\nGreggshire, VA 11650  \n\n[5 rows x 27 columns]",
      "text/html": "<div>\n<style scoped>\n    .dataframe tbody tr th:only-of-type {\n        vertical-align: middle;\n    }\n\n    .dataframe tbody tr th {\n        vertical-align: top;\n    }\n\n    .dataframe thead th {\n        text-align: right;\n    }\n</style>\n<table border=\"1\" class=\"dataframe\">\n  <thead>\n    <tr style=\"text-align: right;\">\n      <th></th>\n      <th>loan_amnt</th>\n      <th>term</th>\n      <th>int_rate</th>\n      <th>installment</th>\n      <th>grade</th>\n      <th>sub_grade</th>\n      <th>emp_title</th>\n      <th>emp_length</th>\n      <th>home_ownership</th>\n      <th>annual_inc</th>\n      <th>...</th>\n      <th>open_acc</th>\n      <th>pub_rec</th>\n      <th>revol_bal</th>\n      <th>revol_util</th>\n      <th>total_acc</th>\n      <th>initial_list_status</th>\n      <th>application_type</th>\n      <th>mort_acc</th>\n      <th>pub_rec_bankruptcies</th>\n      <th>address</th>\n    </tr>\n  </thead>\n  <tbody>\n    <tr>\n      <th>0</th>\n      <td>10000.0</td>\n      <td>36 months</td>\n      <td>11.44</td>\n      <td>329.48</td>\n      <td>B</td>\n      <td>B4</td>\n      <td>Marketing</td>\n      <td>10+ years</td>\n      <td>RENT</td>\n      <td>117000.0</td>\n      <td>...</td>\n      <td>16.0</td>\n      <td>0.0</td>\n      <td>36369.0</td>\n      <td>41.8</td>\n      <td>25.0</td>\n      <td>w</td>\n      <td>INDIVIDUAL</td>\n      <td>0.0</td>\n      <td>0.0</td>\n      <td>0174 Michelle Gateway\\r\\nMendozaberg, OK 22690</td>\n    </tr>\n    <tr>\n      <th>1</th>\n      <td>8000.0</td>\n      <td>36 months</td>\n      <td>11.99</td>\n      <td>265.68</td>\n      <td>B</td>\n      <td>B5</td>\n      <td>Credit analyst</td>\n      <td>4 years</td>\n      <td>MORTGAGE</td>\n      <td>65000.0</td>\n      <td>...</td>\n      <td>17.0</td>\n      <td>0.0</td>\n      <td>20131.0</td>\n      <td>53.3</td>\n      <td>27.0</td>\n      <td>f</td>\n      <td>INDIVIDUAL</td>\n      <td>3.0</td>\n      <td>0.0</td>\n      <td>1076 Carney Fort Apt. 347\\r\\nLoganmouth, SD 05113</td>\n    </tr>\n    <tr>\n      <th>2</th>\n      <td>15600.0</td>\n      <td>36 months</td>\n      <td>10.49</td>\n      <td>506.97</td>\n      <td>B</td>\n      <td>B3</td>\n      <td>Statistician</td>\n      <td>&lt; 1 year</td>\n      <td>RENT</td>\n      <td>43057.0</td>\n      <td>...</td>\n      <td>13.0</td>\n      <td>0.0</td>\n      <td>11987.0</td>\n      <td>92.2</td>\n      <td>26.0</td>\n      <td>f</td>\n      <td>INDIVIDUAL</td>\n      <td>0.0</td>\n      <td>0.0</td>\n      <td>87025 Mark Dale Apt. 269\\r\\nNew Sabrina, WV 05113</td>\n    </tr>\n    <tr>\n      <th>3</th>\n      <td>7200.0</td>\n      <td>36 months</td>\n      <td>6.49</td>\n      <td>220.65</td>\n      <td>A</td>\n      <td>A2</td>\n      <td>Client Advocate</td>\n      <td>6 years</td>\n      <td>RENT</td>\n      <td>54000.0</td>\n      <td>...</td>\n      <td>6.0</td>\n      <td>0.0</td>\n      <td>5472.0</td>\n      <td>21.5</td>\n      <td>13.0</td>\n      <td>f</td>\n      <td>INDIVIDUAL</td>\n      <td>0.0</td>\n      <td>0.0</td>\n      <td>823 Reid Ford\\r\\nDelacruzside, MA 00813</td>\n    </tr>\n    <tr>\n      <th>4</th>\n      <td>24375.0</td>\n      <td>60 months</td>\n      <td>17.27</td>\n      <td>609.33</td>\n      <td>C</td>\n      <td>C5</td>\n      <td>Destiny Management Inc.</td>\n      <td>9 years</td>\n      <td>MORTGAGE</td>\n      <td>55000.0</td>\n      <td>...</td>\n      <td>13.0</td>\n      <td>0.0</td>\n      <td>24584.0</td>\n      <td>69.8</td>\n      <td>43.0</td>\n      <td>f</td>\n      <td>INDIVIDUAL</td>\n      <td>1.0</td>\n      <td>0.0</td>\n      <td>679 Luna Roads\\r\\nGreggshire, VA 11650</td>\n    </tr>\n  </tbody>\n</table>\n<p>5 rows × 27 columns</p>\n</div>"
     },
     "execution_count": 13,
     "metadata": {},
     "output_type": "execute_result"
    }
   ],
   "source": [
    "df.head()\n",
    "#dti, open_acc, int_rate,  pub_rec (mzd izbaciti), revol_bal, revol_util, application_type(mozda izbaciti), pub_rec_bankruptcies(mzd izbaciti), adress(mzd izbaciti)"
   ],
   "metadata": {
    "collapsed": false,
    "ExecuteTime": {
     "end_time": "2025-03-08T14:51:21.214017Z",
     "start_time": "2025-03-08T14:51:21.187424Z"
    }
   },
   "id": "405affcb99d625e5",
   "execution_count": 13
  },
  {
   "cell_type": "code",
   "outputs": [
    {
     "data": {
      "text/plain": "                         count          mean           std     min       25%  \\\nloan_amnt             396030.0  14113.888089   8357.441341  500.00   8000.00   \nint_rate              396030.0     13.639400      4.472157    5.32     10.49   \ninstallment           396030.0    431.849698    250.727790   16.08    250.33   \nannual_inc            396030.0  74203.175798  61637.621158    0.00  45000.00   \ndti                   396030.0     17.379514     18.019092    0.00     11.28   \nopen_acc              396030.0     11.311153      5.137649    0.00      8.00   \npub_rec               396030.0      0.178191      0.530671    0.00      0.00   \nrevol_bal             396030.0  15844.539853  20591.836109    0.00   6025.00   \nrevol_util            395754.0     53.791749     24.452193    0.00     35.80   \ntotal_acc             396030.0     25.414744     11.886991    2.00     17.00   \nmort_acc              358235.0      1.813991      2.147930    0.00      0.00   \npub_rec_bankruptcies  395495.0      0.121648      0.356174    0.00      0.00   \n\n                           50%       75%         max  \nloan_amnt             12000.00  20000.00    40000.00  \nint_rate                 13.33     16.49       30.99  \ninstallment             375.43    567.30     1533.81  \nannual_inc            64000.00  90000.00  8706582.00  \ndti                      16.91     22.98     9999.00  \nopen_acc                 10.00     14.00       90.00  \npub_rec                   0.00      0.00       86.00  \nrevol_bal             11181.00  19620.00  1743266.00  \nrevol_util               54.80     72.90      892.30  \ntotal_acc                24.00     32.00      151.00  \nmort_acc                  1.00      3.00       34.00  \npub_rec_bankruptcies      0.00      0.00        8.00  ",
      "text/html": "<div>\n<style scoped>\n    .dataframe tbody tr th:only-of-type {\n        vertical-align: middle;\n    }\n\n    .dataframe tbody tr th {\n        vertical-align: top;\n    }\n\n    .dataframe thead th {\n        text-align: right;\n    }\n</style>\n<table border=\"1\" class=\"dataframe\">\n  <thead>\n    <tr style=\"text-align: right;\">\n      <th></th>\n      <th>count</th>\n      <th>mean</th>\n      <th>std</th>\n      <th>min</th>\n      <th>25%</th>\n      <th>50%</th>\n      <th>75%</th>\n      <th>max</th>\n    </tr>\n  </thead>\n  <tbody>\n    <tr>\n      <th>loan_amnt</th>\n      <td>396030.0</td>\n      <td>14113.888089</td>\n      <td>8357.441341</td>\n      <td>500.00</td>\n      <td>8000.00</td>\n      <td>12000.00</td>\n      <td>20000.00</td>\n      <td>40000.00</td>\n    </tr>\n    <tr>\n      <th>int_rate</th>\n      <td>396030.0</td>\n      <td>13.639400</td>\n      <td>4.472157</td>\n      <td>5.32</td>\n      <td>10.49</td>\n      <td>13.33</td>\n      <td>16.49</td>\n      <td>30.99</td>\n    </tr>\n    <tr>\n      <th>installment</th>\n      <td>396030.0</td>\n      <td>431.849698</td>\n      <td>250.727790</td>\n      <td>16.08</td>\n      <td>250.33</td>\n      <td>375.43</td>\n      <td>567.30</td>\n      <td>1533.81</td>\n    </tr>\n    <tr>\n      <th>annual_inc</th>\n      <td>396030.0</td>\n      <td>74203.175798</td>\n      <td>61637.621158</td>\n      <td>0.00</td>\n      <td>45000.00</td>\n      <td>64000.00</td>\n      <td>90000.00</td>\n      <td>8706582.00</td>\n    </tr>\n    <tr>\n      <th>dti</th>\n      <td>396030.0</td>\n      <td>17.379514</td>\n      <td>18.019092</td>\n      <td>0.00</td>\n      <td>11.28</td>\n      <td>16.91</td>\n      <td>22.98</td>\n      <td>9999.00</td>\n    </tr>\n    <tr>\n      <th>open_acc</th>\n      <td>396030.0</td>\n      <td>11.311153</td>\n      <td>5.137649</td>\n      <td>0.00</td>\n      <td>8.00</td>\n      <td>10.00</td>\n      <td>14.00</td>\n      <td>90.00</td>\n    </tr>\n    <tr>\n      <th>pub_rec</th>\n      <td>396030.0</td>\n      <td>0.178191</td>\n      <td>0.530671</td>\n      <td>0.00</td>\n      <td>0.00</td>\n      <td>0.00</td>\n      <td>0.00</td>\n      <td>86.00</td>\n    </tr>\n    <tr>\n      <th>revol_bal</th>\n      <td>396030.0</td>\n      <td>15844.539853</td>\n      <td>20591.836109</td>\n      <td>0.00</td>\n      <td>6025.00</td>\n      <td>11181.00</td>\n      <td>19620.00</td>\n      <td>1743266.00</td>\n    </tr>\n    <tr>\n      <th>revol_util</th>\n      <td>395754.0</td>\n      <td>53.791749</td>\n      <td>24.452193</td>\n      <td>0.00</td>\n      <td>35.80</td>\n      <td>54.80</td>\n      <td>72.90</td>\n      <td>892.30</td>\n    </tr>\n    <tr>\n      <th>total_acc</th>\n      <td>396030.0</td>\n      <td>25.414744</td>\n      <td>11.886991</td>\n      <td>2.00</td>\n      <td>17.00</td>\n      <td>24.00</td>\n      <td>32.00</td>\n      <td>151.00</td>\n    </tr>\n    <tr>\n      <th>mort_acc</th>\n      <td>358235.0</td>\n      <td>1.813991</td>\n      <td>2.147930</td>\n      <td>0.00</td>\n      <td>0.00</td>\n      <td>1.00</td>\n      <td>3.00</td>\n      <td>34.00</td>\n    </tr>\n    <tr>\n      <th>pub_rec_bankruptcies</th>\n      <td>395495.0</td>\n      <td>0.121648</td>\n      <td>0.356174</td>\n      <td>0.00</td>\n      <td>0.00</td>\n      <td>0.00</td>\n      <td>0.00</td>\n      <td>8.00</td>\n    </tr>\n  </tbody>\n</table>\n</div>"
     },
     "execution_count": 14,
     "metadata": {},
     "output_type": "execute_result"
    }
   ],
   "source": [
    "df.describe().transpose()"
   ],
   "metadata": {
    "collapsed": false,
    "ExecuteTime": {
     "end_time": "2025-03-08T14:51:32.414291400Z",
     "start_time": "2025-03-08T14:51:32.188476400Z"
    }
   },
   "id": "c254b32405bc22e4",
   "execution_count": 14
  },
  {
   "cell_type": "code",
   "outputs": [
    {
     "data": {
      "text/plain": "loan_amnt               0\nterm                    0\nint_rate                0\ninstallment             0\ngrade                   0\nsub_grade               0\nemp_title               0\nemp_length              0\nhome_ownership          0\nannual_inc              0\nverification_status     0\nissue_d                 0\nloan_status             0\npurpose                 0\ntitle                   0\ndti                     0\nearliest_cr_line        0\nopen_acc                0\npub_rec                 0\nrevol_bal               0\nrevol_util              0\ntotal_acc               0\ninitial_list_status     0\napplication_type        0\nmort_acc                0\npub_rec_bankruptcies    0\naddress                 0\ndtype: int64"
     },
     "execution_count": 97,
     "metadata": {},
     "output_type": "execute_result"
    }
   ],
   "source": [
    "df.isnull().sum()\n",
    "#Definitivno ima kolona i redova gde su null vrednosti"
   ],
   "metadata": {
    "collapsed": false,
    "ExecuteTime": {
     "end_time": "2025-03-08T16:04:59.615767200Z",
     "start_time": "2025-03-08T16:04:59.458197800Z"
    }
   },
   "id": "6063608a24b28f49",
   "execution_count": 97
  },
  {
   "cell_type": "code",
   "outputs": [],
   "source": [
    "df = df.dropna() #Izbacio sam nekih 15% podataka"
   ],
   "metadata": {
    "collapsed": false,
    "ExecuteTime": {
     "end_time": "2025-03-08T16:04:57.451347800Z",
     "start_time": "2025-03-08T16:04:57.207062400Z"
    }
   },
   "id": "dc6d516151abbc7b",
   "execution_count": 96
  },
  {
   "cell_type": "code",
   "outputs": [
    {
     "data": {
      "text/plain": "<Axes: xlabel='loan_status', ylabel='count'>"
     },
     "execution_count": 43,
     "metadata": {},
     "output_type": "execute_result"
    },
    {
     "data": {
      "text/plain": "<Figure size 640x480 with 1 Axes>",
      "image/png": "[encoded data removed]"
     },
     "metadata": {},
     "output_type": "display_data"
    }
   ],
   "source": [
    "#Provera izbalansiranosti skupa\n",
    "sns.countplot(x='loan_status', data=df) #Jako neizbalansiran skup  269555 Fully paid 66312"
   ],
   "metadata": {
    "collapsed": false,
    "ExecuteTime": {
     "end_time": "2025-03-08T15:34:58.440965200Z",
     "start_time": "2025-03-08T15:34:57.865543700Z"
    }
   },
   "id": "946bdbb8c4e6f3f2",
   "execution_count": 43
  },
  {
   "cell_type": "code",
   "outputs": [
    {
     "data": {
      "text/plain": "array([' 36 months', ' 60 months'], dtype=object)"
     },
     "execution_count": 92,
     "metadata": {},
     "output_type": "execute_result"
    }
   ],
   "source": [
    "#Treba srediti sada kolone koje imaju svrhe, a koje ne + treba konvertovati kolone iz stringa u broj\n",
    "df['term'].unique()"
   ],
   "metadata": {
    "collapsed": false,
    "ExecuteTime": {
     "end_time": "2025-03-08T16:04:36.878530800Z",
     "start_time": "2025-03-08T16:04:36.852286200Z"
    }
   },
   "id": "6de199f10e007069",
   "execution_count": 92
  },
  {
   "cell_type": "code",
   "outputs": [
    {
     "data": {
      "text/plain": "38"
     },
     "execution_count": 80,
     "metadata": {},
     "output_type": "execute_result"
    }
   ],
   "source": [
    "def grab_two_letters(state):\n",
    "    return int(state[:2])\n",
    "grab_two_letters(\"36 months\") + 2"
   ],
   "metadata": {
    "collapsed": false,
    "ExecuteTime": {
     "end_time": "2025-03-08T16:01:10.368665800Z",
     "start_time": "2025-03-08T16:01:10.351427400Z"
    }
   },
   "id": "c1ffb0cc5a3497cb",
   "execution_count": 80
  },
  {
   "cell_type": "code",
   "outputs": [],
   "source": [
    "df['term'] = df['term'].apply(lambda x: int(x.split()[0]))"
   ],
   "metadata": {
    "collapsed": false,
    "ExecuteTime": {
     "end_time": "2025-03-08T16:05:18.474472500Z",
     "start_time": "2025-03-08T16:05:18.314067200Z"
    }
   },
   "id": "53ca4a1664cb7e4",
   "execution_count": 98
  },
  {
   "cell_type": "code",
   "outputs": [
    {
     "data": {
      "text/plain": "<Axes: xlabel='term', ylabel='count'>"
     },
     "execution_count": 101,
     "metadata": {},
     "output_type": "execute_result"
    },
    {
     "data": {
      "text/plain": "<Figure size 640x480 with 1 Axes>",
      "image/png": "[encoded data removed]"
     },
     "metadata": {},
     "output_type": "display_data"
    }
   ],
   "source": [
    "sns.countplot(x=df['term'],data=df)"
   ],
   "metadata": {
    "collapsed": false,
    "ExecuteTime": {
     "end_time": "2025-03-08T16:05:57.268981800Z",
     "start_time": "2025-03-08T16:05:56.751109800Z"
    }
   },
   "id": "708fda9ea26d95fe",
   "execution_count": 101
  },
  {
   "cell_type": "code",
   "outputs": [],
   "source": [
    " "
   ],
   "metadata": {
    "collapsed": false
   },
   "id": "cd30f5407792067a"
  }
 ],
 "metadata": {
  "kernelspec": {
   "display_name": "Python 3",
   "language": "python",
   "name": "python3"
  },
  "language_info": {
   "codemirror_mode": {
    "name": "ipython",
    "version": 2
   },
   "file_extension": ".py",
   "mimetype": "text/x-python",
   "name": "python",
   "nbconvert_exporter": "python",
   "pygments_lexer": "ipython2",
   "version": "2.7.6"
  }
 },
 "nbformat": 4,
 "nbformat_minor": 5
}
