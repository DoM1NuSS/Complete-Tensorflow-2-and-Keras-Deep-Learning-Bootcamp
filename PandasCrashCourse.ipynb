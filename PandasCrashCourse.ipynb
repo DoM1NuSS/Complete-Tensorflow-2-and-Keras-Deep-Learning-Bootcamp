{
 "cells": [
  {
   "cell_type": "code",
   "outputs": [],
   "source": [
    "\"\"\"\n",
    "Uzasni block comment u pythonu\n",
    "Pandas Crash Course\n",
    "\"\"\""
   ],
   "metadata": {
    "collapsed": false
   },
   "id": "46c9b8f516f71001",
   "execution_count": null
  },
  {
   "cell_type": "code",
   "outputs": [],
   "source": [
    "import pandas as pd\n",
    "import numpy as np"
   ],
   "metadata": {
    "collapsed": false,
    "ExecuteTime": {
     "end_time": "2025-03-04T10:19:29.000899600Z",
     "start_time": "2025-03-04T10:19:27.722972900Z"
    }
   },
   "id": "7d9ecad42ee8814",
   "execution_count": 1
  },
  {
   "cell_type": "code",
   "outputs": [],
   "source": [
    "labels = ['a', 'b', 'c']\n",
    "\n",
    "mylist = [10,20,30]\n",
    "\n",
    "arr = np.array([10,20,30])\n",
    "\n",
    "d = {'a':10, 'b':20, 'c':30}"
   ],
   "metadata": {
    "collapsed": false,
    "ExecuteTime": {
     "end_time": "2025-02-13T15:50:13.504404800Z",
     "start_time": "2025-02-13T15:50:13.494604800Z"
    }
   },
   "id": "1f671141a5650156",
   "execution_count": 4
  },
  {
   "cell_type": "code",
   "outputs": [
    {
     "data": {
      "text/plain": "a    10\nb    20\nc    30\ndtype: int64"
     },
     "execution_count": 8,
     "metadata": {},
     "output_type": "execute_result"
    }
   ],
   "source": [
    "pd.Series(data=mylist, index=labels) #Prakticno smo prosledili poodatke niz koji smo napravili, a za indexe smo rekli da su labele\n",
    "pd.Series(arr,labels)"
   ],
   "metadata": {
    "collapsed": false,
    "ExecuteTime": {
     "end_time": "2025-02-13T15:52:09.682980800Z",
     "start_time": "2025-02-13T15:52:09.665929700Z"
    }
   },
   "id": "baf990ac3860692c",
   "execution_count": 8
  },
  {
   "cell_type": "code",
   "outputs": [
    {
     "data": {
      "text/plain": "a    10\nb    20\nc    30\ndtype: int64"
     },
     "execution_count": 9,
     "metadata": {},
     "output_type": "execute_result"
    }
   ],
   "source": [
    "pd.Series(d)"
   ],
   "metadata": {
    "collapsed": false,
    "ExecuteTime": {
     "end_time": "2025-02-13T15:52:25.109383600Z",
     "start_time": "2025-02-13T15:52:25.100244900Z"
    }
   },
   "id": "a81e5d5d133a9e1b",
   "execution_count": 9
  },
  {
   "cell_type": "code",
   "outputs": [],
   "source": [
    "salesQ1 = pd.Series(data=[250,450,200,150], index=[\"USA\", \"China\", \"India\", \"Brazil\"])\n"
   ],
   "metadata": {
    "collapsed": false,
    "ExecuteTime": {
     "end_time": "2025-02-13T15:53:34.275247400Z",
     "start_time": "2025-02-13T15:53:34.263077900Z"
    }
   },
   "id": "caca5b73db91c05d",
   "execution_count": 10
  },
  {
   "cell_type": "code",
   "outputs": [
    {
     "data": {
      "text/plain": "USA       250\nChina     450\nIndia     200\nBrazil    150\ndtype: int64"
     },
     "execution_count": 11,
     "metadata": {},
     "output_type": "execute_result"
    }
   ],
   "source": [
    "salesQ1"
   ],
   "metadata": {
    "collapsed": false,
    "ExecuteTime": {
     "end_time": "2025-02-13T15:53:37.461438400Z",
     "start_time": "2025-02-13T15:53:37.450373800Z"
    }
   },
   "id": "e53c0f3564c5c5b6",
   "execution_count": 11
  },
  {
   "cell_type": "code",
   "outputs": [],
   "source": [
    "salesQ2 = pd.Series(data=[260,500,210,100], index=[\"USA\", \"China\", \"India\", \"Japan\"])"
   ],
   "metadata": {
    "collapsed": false,
    "ExecuteTime": {
     "end_time": "2025-02-13T15:54:05.373760100Z",
     "start_time": "2025-02-13T15:54:05.355703900Z"
    }
   },
   "id": "d3cfd1448a5236a4",
   "execution_count": 12
  },
  {
   "cell_type": "code",
   "outputs": [
    {
     "data": {
      "text/plain": "USA      260\nChina    500\nIndia    210\nJapan    100\ndtype: int64"
     },
     "execution_count": 15,
     "metadata": {},
     "output_type": "execute_result"
    }
   ],
   "source": [
    "salesQ2"
   ],
   "metadata": {
    "collapsed": false,
    "ExecuteTime": {
     "end_time": "2025-02-13T15:54:42.007076300Z",
     "start_time": "2025-02-13T15:54:41.990294300Z"
    }
   },
   "id": "649d5b6d05da1d30",
   "execution_count": 15
  },
  {
   "cell_type": "code",
   "outputs": [
    {
     "data": {
      "text/plain": "np.int64(500)"
     },
     "execution_count": 16,
     "metadata": {},
     "output_type": "execute_result"
    }
   ],
   "source": [
    "salesQ2['China']"
   ],
   "metadata": {
    "collapsed": false,
    "ExecuteTime": {
     "end_time": "2025-02-13T15:54:48.329692300Z",
     "start_time": "2025-02-13T15:54:48.315866300Z"
    }
   },
   "id": "b1bae7e9e9ca0f5",
   "execution_count": 16
  },
  {
   "cell_type": "code",
   "outputs": [
    {
     "name": "stderr",
     "output_type": "stream",
     "text": [
      "C:\\Users\\Windows\\AppData\\Local\\Temp\\ipykernel_10096\\2879674503.py:1: FutureWarning: Series.__getitem__ treating keys as positions is deprecated. In a future version, integer keys will always be treated as labels (consistent with DataFrame behavior). To access a value by position, use `ser.iloc[pos]`\n",
      "  salesQ2[2]\n"
     ]
    },
    {
     "data": {
      "text/plain": "np.int64(210)"
     },
     "execution_count": 17,
     "metadata": {},
     "output_type": "execute_result"
    }
   ],
   "source": [
    "salesQ2[2]"
   ],
   "metadata": {
    "collapsed": false,
    "ExecuteTime": {
     "end_time": "2025-02-13T15:54:54.084101700Z",
     "start_time": "2025-02-13T15:54:54.074230400Z"
    }
   },
   "id": "9ca409bde0de27f3",
   "execution_count": 17
  },
  {
   "cell_type": "code",
   "outputs": [
    {
     "data": {
      "text/plain": "Brazil      NaN\nChina     950.0\nIndia     410.0\nJapan       NaN\nUSA       510.0\ndtype: float64"
     },
     "execution_count": 18,
     "metadata": {},
     "output_type": "execute_result"
    }
   ],
   "source": [
    "salesQ1 + salesQ2 #Vraca NaN jer nema informacije o Brazilu i Japanu u obe strukture podataka"
   ],
   "metadata": {
    "collapsed": false,
    "ExecuteTime": {
     "end_time": "2025-02-13T15:57:14.335073900Z",
     "start_time": "2025-02-13T15:57:14.321122900Z"
    }
   },
   "id": "7289cced39340f65",
   "execution_count": 18
  },
  {
   "cell_type": "code",
   "outputs": [],
   "source": [
    "#DataFrames \n",
    "\"\"\"\n",
    "DataFrame je vise pandas series koji dele isti index\n",
    "Vrlo slicno kao Excel spreadsheet\n",
    "\"\"\"\n",
    "\n",
    "columns = ['w', 'x', 'y', 'z']\n",
    "index = ['A', 'B', 'C', 'D', 'E']"
   ],
   "metadata": {
    "collapsed": false,
    "ExecuteTime": {
     "end_time": "2025-02-22T13:35:15.788502600Z",
     "start_time": "2025-02-22T13:35:15.775829200Z"
    }
   },
   "id": "6550ddbdd1cc5603",
   "execution_count": 3
  },
  {
   "cell_type": "code",
   "outputs": [],
   "source": [
    "from numpy.random import randint"
   ],
   "metadata": {
    "collapsed": false,
    "ExecuteTime": {
     "end_time": "2025-02-22T13:35:16.368877500Z",
     "start_time": "2025-02-22T13:35:16.355647400Z"
    }
   },
   "id": "70fed9959e7e3025",
   "execution_count": 4
  },
  {
   "cell_type": "code",
   "outputs": [],
   "source": [
    "np.random.seed(42)\n",
    "data = randint(-100,100, (5,4))"
   ],
   "metadata": {
    "collapsed": false,
    "ExecuteTime": {
     "end_time": "2025-02-22T13:35:17.950090700Z",
     "start_time": "2025-02-22T13:35:17.937231400Z"
    }
   },
   "id": "b7a94808681d59a0",
   "execution_count": 5
  },
  {
   "cell_type": "code",
   "outputs": [
    {
     "data": {
      "text/plain": "array([[  2,  79,  -8, -86],\n       [  6, -29,  88, -80],\n       [  2,  21, -26, -13],\n       [ 16,  -1,   3,  51],\n       [ 30,  49, -48, -99]], dtype=int32)"
     },
     "execution_count": 6,
     "metadata": {},
     "output_type": "execute_result"
    }
   ],
   "source": [
    "data"
   ],
   "metadata": {
    "collapsed": false,
    "ExecuteTime": {
     "end_time": "2025-02-22T13:35:19.512638800Z",
     "start_time": "2025-02-22T13:35:19.483805500Z"
    }
   },
   "id": "713040a18db9ec73",
   "execution_count": 6
  },
  {
   "cell_type": "code",
   "outputs": [],
   "source": [
    "#Kreiranje Dataframe\n",
    "df = pd.DataFrame(data, index, columns) #indexi su zapravo redovi"
   ],
   "metadata": {
    "collapsed": false,
    "ExecuteTime": {
     "end_time": "2025-02-22T13:35:19.945917900Z",
     "start_time": "2025-02-22T13:35:19.923823900Z"
    }
   },
   "id": "2c451347844d8f8a",
   "execution_count": 7
  },
  {
   "cell_type": "code",
   "outputs": [
    {
     "data": {
      "text/plain": "    w   x   y   z\nA   2  79  -8 -86\nB   6 -29  88 -80\nC   2  21 -26 -13\nD  16  -1   3  51\nE  30  49 -48 -99",
      "text/html": "<div>\n<style scoped>\n    .dataframe tbody tr th:only-of-type {\n        vertical-align: middle;\n    }\n\n    .dataframe tbody tr th {\n        vertical-align: top;\n    }\n\n    .dataframe thead th {\n        text-align: right;\n    }\n</style>\n<table border=\"1\" class=\"dataframe\">\n  <thead>\n    <tr style=\"text-align: right;\">\n      <th></th>\n      <th>w</th>\n      <th>x</th>\n      <th>y</th>\n      <th>z</th>\n    </tr>\n  </thead>\n  <tbody>\n    <tr>\n      <th>A</th>\n      <td>2</td>\n      <td>79</td>\n      <td>-8</td>\n      <td>-86</td>\n    </tr>\n    <tr>\n      <th>B</th>\n      <td>6</td>\n      <td>-29</td>\n      <td>88</td>\n      <td>-80</td>\n    </tr>\n    <tr>\n      <th>C</th>\n      <td>2</td>\n      <td>21</td>\n      <td>-26</td>\n      <td>-13</td>\n    </tr>\n    <tr>\n      <th>D</th>\n      <td>16</td>\n      <td>-1</td>\n      <td>3</td>\n      <td>51</td>\n    </tr>\n    <tr>\n      <th>E</th>\n      <td>30</td>\n      <td>49</td>\n      <td>-48</td>\n      <td>-99</td>\n    </tr>\n  </tbody>\n</table>\n</div>"
     },
     "execution_count": 8,
     "metadata": {},
     "output_type": "execute_result"
    }
   ],
   "source": [
    "df"
   ],
   "metadata": {
    "collapsed": false,
    "ExecuteTime": {
     "end_time": "2025-02-22T13:35:20.844310300Z",
     "start_time": "2025-02-22T13:35:20.816618700Z"
    }
   },
   "id": "b177896088396f21",
   "execution_count": 8
  },
  {
   "cell_type": "code",
   "outputs": [
    {
     "data": {
      "text/plain": "    w   z\nA   2 -86\nB   6 -80\nC   2 -13\nD  16  51\nE  30 -99",
      "text/html": "<div>\n<style scoped>\n    .dataframe tbody tr th:only-of-type {\n        vertical-align: middle;\n    }\n\n    .dataframe tbody tr th {\n        vertical-align: top;\n    }\n\n    .dataframe thead th {\n        text-align: right;\n    }\n</style>\n<table border=\"1\" class=\"dataframe\">\n  <thead>\n    <tr style=\"text-align: right;\">\n      <th></th>\n      <th>w</th>\n      <th>z</th>\n    </tr>\n  </thead>\n  <tbody>\n    <tr>\n      <th>A</th>\n      <td>2</td>\n      <td>-86</td>\n    </tr>\n    <tr>\n      <th>B</th>\n      <td>6</td>\n      <td>-80</td>\n    </tr>\n    <tr>\n      <th>C</th>\n      <td>2</td>\n      <td>-13</td>\n    </tr>\n    <tr>\n      <th>D</th>\n      <td>16</td>\n      <td>51</td>\n    </tr>\n    <tr>\n      <th>E</th>\n      <td>30</td>\n      <td>-99</td>\n    </tr>\n  </tbody>\n</table>\n</div>"
     },
     "execution_count": 13,
     "metadata": {},
     "output_type": "execute_result"
    }
   ],
   "source": [
    "#Selektovanje indexa\n",
    "#Razne metode za vadjenje podataka iz DataFram-a\n",
    "df['w'] #Vraca sve kolonu w\n",
    "type(df['w']) #Tip podatka Series\n",
    "#Ako hocemo vise kolona\n",
    "df[['w','z']]"
   ],
   "metadata": {
    "collapsed": false,
    "ExecuteTime": {
     "end_time": "2025-02-18T12:56:17.658413Z",
     "start_time": "2025-02-18T12:56:17.642574400Z"
    }
   },
   "id": "5e34ee94ff073278",
   "execution_count": 13
  },
  {
   "cell_type": "code",
   "outputs": [],
   "source": [
    "#Kreiranje nove kolone\n",
    "df['new_column'] = df['w'] + df['y'] #Sabrace ove dve kolone"
   ],
   "metadata": {
    "collapsed": false,
    "ExecuteTime": {
     "end_time": "2025-02-18T12:58:14.212588500Z",
     "start_time": "2025-02-18T12:58:14.197231800Z"
    }
   },
   "id": "a9f07e713d596d46",
   "execution_count": 14
  },
  {
   "cell_type": "code",
   "outputs": [
    {
     "data": {
      "text/plain": "    w   x   y   z  new_column\nA   2  79  -8 -86          -6\nB   6 -29  88 -80          94\nC   2  21 -26 -13         -24\nD  16  -1   3  51          19\nE  30  49 -48 -99         -18",
      "text/html": "<div>\n<style scoped>\n    .dataframe tbody tr th:only-of-type {\n        vertical-align: middle;\n    }\n\n    .dataframe tbody tr th {\n        vertical-align: top;\n    }\n\n    .dataframe thead th {\n        text-align: right;\n    }\n</style>\n<table border=\"1\" class=\"dataframe\">\n  <thead>\n    <tr style=\"text-align: right;\">\n      <th></th>\n      <th>w</th>\n      <th>x</th>\n      <th>y</th>\n      <th>z</th>\n      <th>new_column</th>\n    </tr>\n  </thead>\n  <tbody>\n    <tr>\n      <th>A</th>\n      <td>2</td>\n      <td>79</td>\n      <td>-8</td>\n      <td>-86</td>\n      <td>-6</td>\n    </tr>\n    <tr>\n      <th>B</th>\n      <td>6</td>\n      <td>-29</td>\n      <td>88</td>\n      <td>-80</td>\n      <td>94</td>\n    </tr>\n    <tr>\n      <th>C</th>\n      <td>2</td>\n      <td>21</td>\n      <td>-26</td>\n      <td>-13</td>\n      <td>-24</td>\n    </tr>\n    <tr>\n      <th>D</th>\n      <td>16</td>\n      <td>-1</td>\n      <td>3</td>\n      <td>51</td>\n      <td>19</td>\n    </tr>\n    <tr>\n      <th>E</th>\n      <td>30</td>\n      <td>49</td>\n      <td>-48</td>\n      <td>-99</td>\n      <td>-18</td>\n    </tr>\n  </tbody>\n</table>\n</div>"
     },
     "execution_count": 15,
     "metadata": {},
     "output_type": "execute_result"
    }
   ],
   "source": [
    "df"
   ],
   "metadata": {
    "collapsed": false,
    "ExecuteTime": {
     "end_time": "2025-02-18T12:58:20.180967100Z",
     "start_time": "2025-02-18T12:58:20.166410Z"
    }
   },
   "id": "5b60c71264df8bd6",
   "execution_count": 15
  },
  {
   "cell_type": "code",
   "outputs": [
    {
     "ename": "KeyError",
     "evalue": "\"['new_column'] not found in axis\"",
     "output_type": "error",
     "traceback": [
      "\u001B[1;31m---------------------------------------------------------------------------\u001B[0m",
      "\u001B[1;31mKeyError\u001B[0m                                  Traceback (most recent call last)",
      "Cell \u001B[1;32mIn[20], line 1\u001B[0m\n\u001B[1;32m----> 1\u001B[0m \u001B[43mdf\u001B[49m\u001B[38;5;241;43m.\u001B[39;49m\u001B[43mdrop\u001B[49m\u001B[43m(\u001B[49m\u001B[38;5;124;43m'\u001B[39;49m\u001B[38;5;124;43mnew_column\u001B[39;49m\u001B[38;5;124;43m'\u001B[39;49m\u001B[43m,\u001B[49m\u001B[43m \u001B[49m\u001B[43maxis\u001B[49m\u001B[38;5;241;43m=\u001B[39;49m\u001B[38;5;241;43m1\u001B[39;49m\u001B[43m)\u001B[49m \u001B[38;5;66;03m# default je axis=0 sto znaci da ce traziti po redovima\u001B[39;00m\n\u001B[0;32m      2\u001B[0m \u001B[38;5;66;03m#Ova metoda se radi na kopiji tj. ne ispravlja original\u001B[39;00m\n\u001B[0;32m      3\u001B[0m df \u001B[38;5;241m=\u001B[39m df\u001B[38;5;241m.\u001B[39mdrop(\u001B[38;5;124m'\u001B[39m\u001B[38;5;124mnew_column\u001B[39m\u001B[38;5;124m'\u001B[39m, axis\u001B[38;5;241m=\u001B[39m\u001B[38;5;241m1\u001B[39m)\n",
      "File \u001B[1;32m~\\Desktop\\SauSau\\TensorFlow\\Tensorflow-Bootcamp-master\\Tf kurs\\.venv\\Lib\\site-packages\\pandas\\core\\frame.py:5581\u001B[0m, in \u001B[0;36mDataFrame.drop\u001B[1;34m(self, labels, axis, index, columns, level, inplace, errors)\u001B[0m\n\u001B[0;32m   5433\u001B[0m \u001B[38;5;28;01mdef\u001B[39;00m\u001B[38;5;250m \u001B[39m\u001B[38;5;21mdrop\u001B[39m(\n\u001B[0;32m   5434\u001B[0m     \u001B[38;5;28mself\u001B[39m,\n\u001B[0;32m   5435\u001B[0m     labels: IndexLabel \u001B[38;5;241m|\u001B[39m \u001B[38;5;28;01mNone\u001B[39;00m \u001B[38;5;241m=\u001B[39m \u001B[38;5;28;01mNone\u001B[39;00m,\n\u001B[1;32m   (...)\u001B[0m\n\u001B[0;32m   5442\u001B[0m     errors: IgnoreRaise \u001B[38;5;241m=\u001B[39m \u001B[38;5;124m\"\u001B[39m\u001B[38;5;124mraise\u001B[39m\u001B[38;5;124m\"\u001B[39m,\n\u001B[0;32m   5443\u001B[0m ) \u001B[38;5;241m-\u001B[39m\u001B[38;5;241m>\u001B[39m DataFrame \u001B[38;5;241m|\u001B[39m \u001B[38;5;28;01mNone\u001B[39;00m:\n\u001B[0;32m   5444\u001B[0m \u001B[38;5;250m    \u001B[39m\u001B[38;5;124;03m\"\"\"\u001B[39;00m\n\u001B[0;32m   5445\u001B[0m \u001B[38;5;124;03m    Drop specified labels from rows or columns.\u001B[39;00m\n\u001B[0;32m   5446\u001B[0m \n\u001B[1;32m   (...)\u001B[0m\n\u001B[0;32m   5579\u001B[0m \u001B[38;5;124;03m            weight  1.0     0.8\u001B[39;00m\n\u001B[0;32m   5580\u001B[0m \u001B[38;5;124;03m    \"\"\"\u001B[39;00m\n\u001B[1;32m-> 5581\u001B[0m     \u001B[38;5;28;01mreturn\u001B[39;00m \u001B[38;5;28;43msuper\u001B[39;49m\u001B[43m(\u001B[49m\u001B[43m)\u001B[49m\u001B[38;5;241;43m.\u001B[39;49m\u001B[43mdrop\u001B[49m\u001B[43m(\u001B[49m\n\u001B[0;32m   5582\u001B[0m \u001B[43m        \u001B[49m\u001B[43mlabels\u001B[49m\u001B[38;5;241;43m=\u001B[39;49m\u001B[43mlabels\u001B[49m\u001B[43m,\u001B[49m\n\u001B[0;32m   5583\u001B[0m \u001B[43m        \u001B[49m\u001B[43maxis\u001B[49m\u001B[38;5;241;43m=\u001B[39;49m\u001B[43maxis\u001B[49m\u001B[43m,\u001B[49m\n\u001B[0;32m   5584\u001B[0m \u001B[43m        \u001B[49m\u001B[43mindex\u001B[49m\u001B[38;5;241;43m=\u001B[39;49m\u001B[43mindex\u001B[49m\u001B[43m,\u001B[49m\n\u001B[0;32m   5585\u001B[0m \u001B[43m        \u001B[49m\u001B[43mcolumns\u001B[49m\u001B[38;5;241;43m=\u001B[39;49m\u001B[43mcolumns\u001B[49m\u001B[43m,\u001B[49m\n\u001B[0;32m   5586\u001B[0m \u001B[43m        \u001B[49m\u001B[43mlevel\u001B[49m\u001B[38;5;241;43m=\u001B[39;49m\u001B[43mlevel\u001B[49m\u001B[43m,\u001B[49m\n\u001B[0;32m   5587\u001B[0m \u001B[43m        \u001B[49m\u001B[43minplace\u001B[49m\u001B[38;5;241;43m=\u001B[39;49m\u001B[43minplace\u001B[49m\u001B[43m,\u001B[49m\n\u001B[0;32m   5588\u001B[0m \u001B[43m        \u001B[49m\u001B[43merrors\u001B[49m\u001B[38;5;241;43m=\u001B[39;49m\u001B[43merrors\u001B[49m\u001B[43m,\u001B[49m\n\u001B[0;32m   5589\u001B[0m \u001B[43m    \u001B[49m\u001B[43m)\u001B[49m\n",
      "File \u001B[1;32m~\\Desktop\\SauSau\\TensorFlow\\Tensorflow-Bootcamp-master\\Tf kurs\\.venv\\Lib\\site-packages\\pandas\\core\\generic.py:4788\u001B[0m, in \u001B[0;36mNDFrame.drop\u001B[1;34m(self, labels, axis, index, columns, level, inplace, errors)\u001B[0m\n\u001B[0;32m   4786\u001B[0m \u001B[38;5;28;01mfor\u001B[39;00m axis, labels \u001B[38;5;129;01min\u001B[39;00m axes\u001B[38;5;241m.\u001B[39mitems():\n\u001B[0;32m   4787\u001B[0m     \u001B[38;5;28;01mif\u001B[39;00m labels \u001B[38;5;129;01mis\u001B[39;00m \u001B[38;5;129;01mnot\u001B[39;00m \u001B[38;5;28;01mNone\u001B[39;00m:\n\u001B[1;32m-> 4788\u001B[0m         obj \u001B[38;5;241m=\u001B[39m \u001B[43mobj\u001B[49m\u001B[38;5;241;43m.\u001B[39;49m\u001B[43m_drop_axis\u001B[49m\u001B[43m(\u001B[49m\u001B[43mlabels\u001B[49m\u001B[43m,\u001B[49m\u001B[43m \u001B[49m\u001B[43maxis\u001B[49m\u001B[43m,\u001B[49m\u001B[43m \u001B[49m\u001B[43mlevel\u001B[49m\u001B[38;5;241;43m=\u001B[39;49m\u001B[43mlevel\u001B[49m\u001B[43m,\u001B[49m\u001B[43m \u001B[49m\u001B[43merrors\u001B[49m\u001B[38;5;241;43m=\u001B[39;49m\u001B[43merrors\u001B[49m\u001B[43m)\u001B[49m\n\u001B[0;32m   4790\u001B[0m \u001B[38;5;28;01mif\u001B[39;00m inplace:\n\u001B[0;32m   4791\u001B[0m     \u001B[38;5;28mself\u001B[39m\u001B[38;5;241m.\u001B[39m_update_inplace(obj)\n",
      "File \u001B[1;32m~\\Desktop\\SauSau\\TensorFlow\\Tensorflow-Bootcamp-master\\Tf kurs\\.venv\\Lib\\site-packages\\pandas\\core\\generic.py:4830\u001B[0m, in \u001B[0;36mNDFrame._drop_axis\u001B[1;34m(self, labels, axis, level, errors, only_slice)\u001B[0m\n\u001B[0;32m   4828\u001B[0m         new_axis \u001B[38;5;241m=\u001B[39m axis\u001B[38;5;241m.\u001B[39mdrop(labels, level\u001B[38;5;241m=\u001B[39mlevel, errors\u001B[38;5;241m=\u001B[39merrors)\n\u001B[0;32m   4829\u001B[0m     \u001B[38;5;28;01melse\u001B[39;00m:\n\u001B[1;32m-> 4830\u001B[0m         new_axis \u001B[38;5;241m=\u001B[39m \u001B[43maxis\u001B[49m\u001B[38;5;241;43m.\u001B[39;49m\u001B[43mdrop\u001B[49m\u001B[43m(\u001B[49m\u001B[43mlabels\u001B[49m\u001B[43m,\u001B[49m\u001B[43m \u001B[49m\u001B[43merrors\u001B[49m\u001B[38;5;241;43m=\u001B[39;49m\u001B[43merrors\u001B[49m\u001B[43m)\u001B[49m\n\u001B[0;32m   4831\u001B[0m     indexer \u001B[38;5;241m=\u001B[39m axis\u001B[38;5;241m.\u001B[39mget_indexer(new_axis)\n\u001B[0;32m   4833\u001B[0m \u001B[38;5;66;03m# Case for non-unique axis\u001B[39;00m\n\u001B[0;32m   4834\u001B[0m \u001B[38;5;28;01melse\u001B[39;00m:\n",
      "File \u001B[1;32m~\\Desktop\\SauSau\\TensorFlow\\Tensorflow-Bootcamp-master\\Tf kurs\\.venv\\Lib\\site-packages\\pandas\\core\\indexes\\base.py:7070\u001B[0m, in \u001B[0;36mIndex.drop\u001B[1;34m(self, labels, errors)\u001B[0m\n\u001B[0;32m   7068\u001B[0m \u001B[38;5;28;01mif\u001B[39;00m mask\u001B[38;5;241m.\u001B[39many():\n\u001B[0;32m   7069\u001B[0m     \u001B[38;5;28;01mif\u001B[39;00m errors \u001B[38;5;241m!=\u001B[39m \u001B[38;5;124m\"\u001B[39m\u001B[38;5;124mignore\u001B[39m\u001B[38;5;124m\"\u001B[39m:\n\u001B[1;32m-> 7070\u001B[0m         \u001B[38;5;28;01mraise\u001B[39;00m \u001B[38;5;167;01mKeyError\u001B[39;00m(\u001B[38;5;124mf\u001B[39m\u001B[38;5;124m\"\u001B[39m\u001B[38;5;132;01m{\u001B[39;00mlabels[mask]\u001B[38;5;241m.\u001B[39mtolist()\u001B[38;5;132;01m}\u001B[39;00m\u001B[38;5;124m not found in axis\u001B[39m\u001B[38;5;124m\"\u001B[39m)\n\u001B[0;32m   7071\u001B[0m     indexer \u001B[38;5;241m=\u001B[39m indexer[\u001B[38;5;241m~\u001B[39mmask]\n\u001B[0;32m   7072\u001B[0m \u001B[38;5;28;01mreturn\u001B[39;00m \u001B[38;5;28mself\u001B[39m\u001B[38;5;241m.\u001B[39mdelete(indexer)\n",
      "\u001B[1;31mKeyError\u001B[0m: \"['new_column'] not found in axis\""
     ]
    }
   ],
   "source": [
    "df.drop('new_column', axis=1) # default je axis=0 sto znaci da ce traziti po redovima\n",
    "#Ova metoda se radi na kopiji tj. ne ispravlja original\n",
    "df = df.drop('new_column', axis=1)"
   ],
   "metadata": {
    "collapsed": false,
    "ExecuteTime": {
     "end_time": "2025-02-18T13:01:20.233027800Z",
     "start_time": "2025-02-18T13:01:20.188570300Z"
    }
   },
   "id": "f77eb52ba6e9e0ae",
   "execution_count": 20
  },
  {
   "cell_type": "code",
   "outputs": [
    {
     "data": {
      "text/plain": "    w   x   y   z\nC   2  21 -26 -13\nD  16  -1   3  51\nE  30  49 -48 -99",
      "text/html": "<div>\n<style scoped>\n    .dataframe tbody tr th:only-of-type {\n        vertical-align: middle;\n    }\n\n    .dataframe tbody tr th {\n        vertical-align: top;\n    }\n\n    .dataframe thead th {\n        text-align: right;\n    }\n</style>\n<table border=\"1\" class=\"dataframe\">\n  <thead>\n    <tr style=\"text-align: right;\">\n      <th></th>\n      <th>w</th>\n      <th>x</th>\n      <th>y</th>\n      <th>z</th>\n    </tr>\n  </thead>\n  <tbody>\n    <tr>\n      <th>C</th>\n      <td>2</td>\n      <td>21</td>\n      <td>-26</td>\n      <td>-13</td>\n    </tr>\n    <tr>\n      <th>D</th>\n      <td>16</td>\n      <td>-1</td>\n      <td>3</td>\n      <td>51</td>\n    </tr>\n    <tr>\n      <th>E</th>\n      <td>30</td>\n      <td>49</td>\n      <td>-48</td>\n      <td>-99</td>\n    </tr>\n  </tbody>\n</table>\n</div>"
     },
     "execution_count": 27,
     "metadata": {},
     "output_type": "execute_result"
    }
   ],
   "source": [
    "#Selektovanje redova\n",
    "df.loc['A'] #vraca red kao series\n",
    "df.loc[['A', 'E']]\n",
    "#Ako hocemo da koristimo indexe tj brojeve\n",
    "df.iloc[1]\n",
    "df.iloc[2:]"
   ],
   "metadata": {
    "collapsed": false,
    "ExecuteTime": {
     "end_time": "2025-02-18T13:07:35.578540900Z",
     "start_time": "2025-02-18T13:07:35.563733600Z"
    }
   },
   "id": "c49800d173e78617",
   "execution_count": 27
  },
  {
   "cell_type": "code",
   "outputs": [
    {
     "ename": "KeyError",
     "evalue": "\"None of [Index(['A,D'], dtype='object')] are in the [index]\"",
     "output_type": "error",
     "traceback": [
      "\u001B[1;31m---------------------------------------------------------------------------\u001B[0m",
      "\u001B[1;31mKeyError\u001B[0m                                  Traceback (most recent call last)",
      "Cell \u001B[1;32mIn[31], line 2\u001B[0m\n\u001B[0;32m      1\u001B[0m df\u001B[38;5;241m.\u001B[39mdrop(\u001B[38;5;124m'\u001B[39m\u001B[38;5;124mC\u001B[39m\u001B[38;5;124m'\u001B[39m) \u001B[38;5;66;03m#ova metoda se ne radi na originalu\u001B[39;00m\n\u001B[1;32m----> 2\u001B[0m \u001B[43mdf\u001B[49m\u001B[38;5;241;43m.\u001B[39;49m\u001B[43mloc\u001B[49m\u001B[43m[\u001B[49m\u001B[43m[\u001B[49m\u001B[38;5;124;43m'\u001B[39;49m\u001B[38;5;124;43mA,D\u001B[39;49m\u001B[38;5;124;43m'\u001B[39;49m\u001B[43m]\u001B[49m\u001B[43m,\u001B[49m\u001B[43m[\u001B[49m\u001B[38;5;124;43m'\u001B[39;49m\u001B[38;5;124;43my\u001B[39;49m\u001B[38;5;124;43m'\u001B[39;49m\u001B[43m,\u001B[49m\u001B[38;5;124;43m'\u001B[39;49m\u001B[38;5;124;43mw\u001B[39;49m\u001B[38;5;124;43m'\u001B[39;49m\u001B[43m]\u001B[49m\u001B[43m]\u001B[49m\n",
      "File \u001B[1;32m~\\Desktop\\SauSau\\TensorFlow\\Tensorflow-Bootcamp-master\\Tf kurs\\.venv\\Lib\\site-packages\\pandas\\core\\indexing.py:1184\u001B[0m, in \u001B[0;36m_LocationIndexer.__getitem__\u001B[1;34m(self, key)\u001B[0m\n\u001B[0;32m   1182\u001B[0m     \u001B[38;5;28;01mif\u001B[39;00m \u001B[38;5;28mself\u001B[39m\u001B[38;5;241m.\u001B[39m_is_scalar_access(key):\n\u001B[0;32m   1183\u001B[0m         \u001B[38;5;28;01mreturn\u001B[39;00m \u001B[38;5;28mself\u001B[39m\u001B[38;5;241m.\u001B[39mobj\u001B[38;5;241m.\u001B[39m_get_value(\u001B[38;5;241m*\u001B[39mkey, takeable\u001B[38;5;241m=\u001B[39m\u001B[38;5;28mself\u001B[39m\u001B[38;5;241m.\u001B[39m_takeable)\n\u001B[1;32m-> 1184\u001B[0m     \u001B[38;5;28;01mreturn\u001B[39;00m \u001B[38;5;28;43mself\u001B[39;49m\u001B[38;5;241;43m.\u001B[39;49m\u001B[43m_getitem_tuple\u001B[49m\u001B[43m(\u001B[49m\u001B[43mkey\u001B[49m\u001B[43m)\u001B[49m\n\u001B[0;32m   1185\u001B[0m \u001B[38;5;28;01melse\u001B[39;00m:\n\u001B[0;32m   1186\u001B[0m     \u001B[38;5;66;03m# we by definition only have the 0th axis\u001B[39;00m\n\u001B[0;32m   1187\u001B[0m     axis \u001B[38;5;241m=\u001B[39m \u001B[38;5;28mself\u001B[39m\u001B[38;5;241m.\u001B[39maxis \u001B[38;5;129;01mor\u001B[39;00m \u001B[38;5;241m0\u001B[39m\n",
      "File \u001B[1;32m~\\Desktop\\SauSau\\TensorFlow\\Tensorflow-Bootcamp-master\\Tf kurs\\.venv\\Lib\\site-packages\\pandas\\core\\indexing.py:1375\u001B[0m, in \u001B[0;36m_LocIndexer._getitem_tuple\u001B[1;34m(self, tup)\u001B[0m\n\u001B[0;32m   1373\u001B[0m \u001B[38;5;66;03m# ugly hack for GH #836\u001B[39;00m\n\u001B[0;32m   1374\u001B[0m \u001B[38;5;28;01mif\u001B[39;00m \u001B[38;5;28mself\u001B[39m\u001B[38;5;241m.\u001B[39m_multi_take_opportunity(tup):\n\u001B[1;32m-> 1375\u001B[0m     \u001B[38;5;28;01mreturn\u001B[39;00m \u001B[38;5;28;43mself\u001B[39;49m\u001B[38;5;241;43m.\u001B[39;49m\u001B[43m_multi_take\u001B[49m\u001B[43m(\u001B[49m\u001B[43mtup\u001B[49m\u001B[43m)\u001B[49m\n\u001B[0;32m   1377\u001B[0m \u001B[38;5;28;01mreturn\u001B[39;00m \u001B[38;5;28mself\u001B[39m\u001B[38;5;241m.\u001B[39m_getitem_tuple_same_dim(tup)\n",
      "File \u001B[1;32m~\\Desktop\\SauSau\\TensorFlow\\Tensorflow-Bootcamp-master\\Tf kurs\\.venv\\Lib\\site-packages\\pandas\\core\\indexing.py:1327\u001B[0m, in \u001B[0;36m_LocIndexer._multi_take\u001B[1;34m(self, tup)\u001B[0m\n\u001B[0;32m   1310\u001B[0m \u001B[38;5;250m\u001B[39m\u001B[38;5;124;03m\"\"\"\u001B[39;00m\n\u001B[0;32m   1311\u001B[0m \u001B[38;5;124;03mCreate the indexers for the passed tuple of keys, and\u001B[39;00m\n\u001B[0;32m   1312\u001B[0m \u001B[38;5;124;03mexecutes the take operation. This allows the take operation to be\u001B[39;00m\n\u001B[1;32m   (...)\u001B[0m\n\u001B[0;32m   1323\u001B[0m \u001B[38;5;124;03mvalues: same type as the object being indexed\u001B[39;00m\n\u001B[0;32m   1324\u001B[0m \u001B[38;5;124;03m\"\"\"\u001B[39;00m\n\u001B[0;32m   1325\u001B[0m \u001B[38;5;66;03m# GH 836\u001B[39;00m\n\u001B[0;32m   1326\u001B[0m d \u001B[38;5;241m=\u001B[39m {\n\u001B[1;32m-> 1327\u001B[0m     axis: \u001B[38;5;28;43mself\u001B[39;49m\u001B[38;5;241;43m.\u001B[39;49m\u001B[43m_get_listlike_indexer\u001B[49m\u001B[43m(\u001B[49m\u001B[43mkey\u001B[49m\u001B[43m,\u001B[49m\u001B[43m \u001B[49m\u001B[43maxis\u001B[49m\u001B[43m)\u001B[49m\n\u001B[0;32m   1328\u001B[0m     \u001B[38;5;28;01mfor\u001B[39;00m (key, axis) \u001B[38;5;129;01min\u001B[39;00m \u001B[38;5;28mzip\u001B[39m(tup, \u001B[38;5;28mself\u001B[39m\u001B[38;5;241m.\u001B[39mobj\u001B[38;5;241m.\u001B[39m_AXIS_ORDERS)\n\u001B[0;32m   1329\u001B[0m }\n\u001B[0;32m   1330\u001B[0m \u001B[38;5;28;01mreturn\u001B[39;00m \u001B[38;5;28mself\u001B[39m\u001B[38;5;241m.\u001B[39mobj\u001B[38;5;241m.\u001B[39m_reindex_with_indexers(d, copy\u001B[38;5;241m=\u001B[39m\u001B[38;5;28;01mTrue\u001B[39;00m, allow_dups\u001B[38;5;241m=\u001B[39m\u001B[38;5;28;01mTrue\u001B[39;00m)\n",
      "File \u001B[1;32m~\\Desktop\\SauSau\\TensorFlow\\Tensorflow-Bootcamp-master\\Tf kurs\\.venv\\Lib\\site-packages\\pandas\\core\\indexing.py:1558\u001B[0m, in \u001B[0;36m_LocIndexer._get_listlike_indexer\u001B[1;34m(self, key, axis)\u001B[0m\n\u001B[0;32m   1555\u001B[0m ax \u001B[38;5;241m=\u001B[39m \u001B[38;5;28mself\u001B[39m\u001B[38;5;241m.\u001B[39mobj\u001B[38;5;241m.\u001B[39m_get_axis(axis)\n\u001B[0;32m   1556\u001B[0m axis_name \u001B[38;5;241m=\u001B[39m \u001B[38;5;28mself\u001B[39m\u001B[38;5;241m.\u001B[39mobj\u001B[38;5;241m.\u001B[39m_get_axis_name(axis)\n\u001B[1;32m-> 1558\u001B[0m keyarr, indexer \u001B[38;5;241m=\u001B[39m \u001B[43max\u001B[49m\u001B[38;5;241;43m.\u001B[39;49m\u001B[43m_get_indexer_strict\u001B[49m\u001B[43m(\u001B[49m\u001B[43mkey\u001B[49m\u001B[43m,\u001B[49m\u001B[43m \u001B[49m\u001B[43maxis_name\u001B[49m\u001B[43m)\u001B[49m\n\u001B[0;32m   1560\u001B[0m \u001B[38;5;28;01mreturn\u001B[39;00m keyarr, indexer\n",
      "File \u001B[1;32m~\\Desktop\\SauSau\\TensorFlow\\Tensorflow-Bootcamp-master\\Tf kurs\\.venv\\Lib\\site-packages\\pandas\\core\\indexes\\base.py:6200\u001B[0m, in \u001B[0;36mIndex._get_indexer_strict\u001B[1;34m(self, key, axis_name)\u001B[0m\n\u001B[0;32m   6197\u001B[0m \u001B[38;5;28;01melse\u001B[39;00m:\n\u001B[0;32m   6198\u001B[0m     keyarr, indexer, new_indexer \u001B[38;5;241m=\u001B[39m \u001B[38;5;28mself\u001B[39m\u001B[38;5;241m.\u001B[39m_reindex_non_unique(keyarr)\n\u001B[1;32m-> 6200\u001B[0m \u001B[38;5;28;43mself\u001B[39;49m\u001B[38;5;241;43m.\u001B[39;49m\u001B[43m_raise_if_missing\u001B[49m\u001B[43m(\u001B[49m\u001B[43mkeyarr\u001B[49m\u001B[43m,\u001B[49m\u001B[43m \u001B[49m\u001B[43mindexer\u001B[49m\u001B[43m,\u001B[49m\u001B[43m \u001B[49m\u001B[43maxis_name\u001B[49m\u001B[43m)\u001B[49m\n\u001B[0;32m   6202\u001B[0m keyarr \u001B[38;5;241m=\u001B[39m \u001B[38;5;28mself\u001B[39m\u001B[38;5;241m.\u001B[39mtake(indexer)\n\u001B[0;32m   6203\u001B[0m \u001B[38;5;28;01mif\u001B[39;00m \u001B[38;5;28misinstance\u001B[39m(key, Index):\n\u001B[0;32m   6204\u001B[0m     \u001B[38;5;66;03m# GH 42790 - Preserve name from an Index\u001B[39;00m\n",
      "File \u001B[1;32m~\\Desktop\\SauSau\\TensorFlow\\Tensorflow-Bootcamp-master\\Tf kurs\\.venv\\Lib\\site-packages\\pandas\\core\\indexes\\base.py:6249\u001B[0m, in \u001B[0;36mIndex._raise_if_missing\u001B[1;34m(self, key, indexer, axis_name)\u001B[0m\n\u001B[0;32m   6247\u001B[0m \u001B[38;5;28;01mif\u001B[39;00m nmissing:\n\u001B[0;32m   6248\u001B[0m     \u001B[38;5;28;01mif\u001B[39;00m nmissing \u001B[38;5;241m==\u001B[39m \u001B[38;5;28mlen\u001B[39m(indexer):\n\u001B[1;32m-> 6249\u001B[0m         \u001B[38;5;28;01mraise\u001B[39;00m \u001B[38;5;167;01mKeyError\u001B[39;00m(\u001B[38;5;124mf\u001B[39m\u001B[38;5;124m\"\u001B[39m\u001B[38;5;124mNone of [\u001B[39m\u001B[38;5;132;01m{\u001B[39;00mkey\u001B[38;5;132;01m}\u001B[39;00m\u001B[38;5;124m] are in the [\u001B[39m\u001B[38;5;132;01m{\u001B[39;00maxis_name\u001B[38;5;132;01m}\u001B[39;00m\u001B[38;5;124m]\u001B[39m\u001B[38;5;124m\"\u001B[39m)\n\u001B[0;32m   6251\u001B[0m     not_found \u001B[38;5;241m=\u001B[39m \u001B[38;5;28mlist\u001B[39m(ensure_index(key)[missing_mask\u001B[38;5;241m.\u001B[39mnonzero()[\u001B[38;5;241m0\u001B[39m]]\u001B[38;5;241m.\u001B[39munique())\n\u001B[0;32m   6252\u001B[0m     \u001B[38;5;28;01mraise\u001B[39;00m \u001B[38;5;167;01mKeyError\u001B[39;00m(\u001B[38;5;124mf\u001B[39m\u001B[38;5;124m\"\u001B[39m\u001B[38;5;132;01m{\u001B[39;00mnot_found\u001B[38;5;132;01m}\u001B[39;00m\u001B[38;5;124m not in index\u001B[39m\u001B[38;5;124m\"\u001B[39m)\n",
      "\u001B[1;31mKeyError\u001B[0m: \"None of [Index(['A,D'], dtype='object')] are in the [index]\""
     ]
    }
   ],
   "source": [
    "df.drop('C') #ova metoda se ne radi na originalu\n"
   ],
   "metadata": {
    "collapsed": false,
    "ExecuteTime": {
     "end_time": "2025-02-18T13:09:52.956232900Z",
     "start_time": "2025-02-18T13:09:52.898515500Z"
    }
   },
   "id": "cc1a931412e3ebe6",
   "execution_count": 31
  },
  {
   "cell_type": "code",
   "outputs": [
    {
     "data": {
      "text/plain": "    w   x   y   z\nA   2  79  -8 -86\nB   6 -29  88 -80\nC   2  21 -26 -13\nD  16  -1   3  51\nE  30  49 -48 -99",
      "text/html": "<div>\n<style scoped>\n    .dataframe tbody tr th:only-of-type {\n        vertical-align: middle;\n    }\n\n    .dataframe tbody tr th {\n        vertical-align: top;\n    }\n\n    .dataframe thead th {\n        text-align: right;\n    }\n</style>\n<table border=\"1\" class=\"dataframe\">\n  <thead>\n    <tr style=\"text-align: right;\">\n      <th></th>\n      <th>w</th>\n      <th>x</th>\n      <th>y</th>\n      <th>z</th>\n    </tr>\n  </thead>\n  <tbody>\n    <tr>\n      <th>A</th>\n      <td>2</td>\n      <td>79</td>\n      <td>-8</td>\n      <td>-86</td>\n    </tr>\n    <tr>\n      <th>B</th>\n      <td>6</td>\n      <td>-29</td>\n      <td>88</td>\n      <td>-80</td>\n    </tr>\n    <tr>\n      <th>C</th>\n      <td>2</td>\n      <td>21</td>\n      <td>-26</td>\n      <td>-13</td>\n    </tr>\n    <tr>\n      <th>D</th>\n      <td>16</td>\n      <td>-1</td>\n      <td>3</td>\n      <td>51</td>\n    </tr>\n    <tr>\n      <th>E</th>\n      <td>30</td>\n      <td>49</td>\n      <td>-48</td>\n      <td>-99</td>\n    </tr>\n  </tbody>\n</table>\n</div>"
     },
     "execution_count": 32,
     "metadata": {},
     "output_type": "execute_result"
    }
   ],
   "source": [
    "df"
   ],
   "metadata": {
    "collapsed": false,
    "ExecuteTime": {
     "end_time": "2025-02-18T13:10:06.952641500Z",
     "start_time": "2025-02-18T13:10:06.932097800Z"
    }
   },
   "id": "69adb089a970a742",
   "execution_count": 32
  },
  {
   "cell_type": "code",
   "outputs": [
    {
     "data": {
      "text/plain": "   y   w\nA -8   2\nD  3  16",
      "text/html": "<div>\n<style scoped>\n    .dataframe tbody tr th:only-of-type {\n        vertical-align: middle;\n    }\n\n    .dataframe tbody tr th {\n        vertical-align: top;\n    }\n\n    .dataframe thead th {\n        text-align: right;\n    }\n</style>\n<table border=\"1\" class=\"dataframe\">\n  <thead>\n    <tr style=\"text-align: right;\">\n      <th></th>\n      <th>y</th>\n      <th>w</th>\n    </tr>\n  </thead>\n  <tbody>\n    <tr>\n      <th>A</th>\n      <td>-8</td>\n      <td>2</td>\n    </tr>\n    <tr>\n      <th>D</th>\n      <td>3</td>\n      <td>16</td>\n    </tr>\n  </tbody>\n</table>\n</div>"
     },
     "execution_count": 34,
     "metadata": {},
     "output_type": "execute_result"
    }
   ],
   "source": [
    "df.loc[['A', 'D'],['y','w']]"
   ],
   "metadata": {
    "collapsed": false,
    "ExecuteTime": {
     "end_time": "2025-02-18T13:10:26.289260700Z",
     "start_time": "2025-02-18T13:10:26.270727400Z"
    }
   },
   "id": "fd62462f0d560828",
   "execution_count": 34
  },
  {
   "cell_type": "code",
   "outputs": [
    {
     "data": {
      "text/plain": "      w      x      y      z\nA  True   True  False  False\nB  True  False   True  False\nC  True   True  False  False\nD  True  False   True   True\nE  True   True  False  False",
      "text/html": "<div>\n<style scoped>\n    .dataframe tbody tr th:only-of-type {\n        vertical-align: middle;\n    }\n\n    .dataframe tbody tr th {\n        vertical-align: top;\n    }\n\n    .dataframe thead th {\n        text-align: right;\n    }\n</style>\n<table border=\"1\" class=\"dataframe\">\n  <thead>\n    <tr style=\"text-align: right;\">\n      <th></th>\n      <th>w</th>\n      <th>x</th>\n      <th>y</th>\n      <th>z</th>\n    </tr>\n  </thead>\n  <tbody>\n    <tr>\n      <th>A</th>\n      <td>True</td>\n      <td>True</td>\n      <td>False</td>\n      <td>False</td>\n    </tr>\n    <tr>\n      <th>B</th>\n      <td>True</td>\n      <td>False</td>\n      <td>True</td>\n      <td>False</td>\n    </tr>\n    <tr>\n      <th>C</th>\n      <td>True</td>\n      <td>True</td>\n      <td>False</td>\n      <td>False</td>\n    </tr>\n    <tr>\n      <th>D</th>\n      <td>True</td>\n      <td>False</td>\n      <td>True</td>\n      <td>True</td>\n    </tr>\n    <tr>\n      <th>E</th>\n      <td>True</td>\n      <td>True</td>\n      <td>False</td>\n      <td>False</td>\n    </tr>\n  </tbody>\n</table>\n</div>"
     },
     "execution_count": 35,
     "metadata": {},
     "output_type": "execute_result"
    }
   ],
   "source": [
    "#Conditional select, vrsimo proveru i vracamo podatke koji zadovoljavaju uslov\n",
    "df > 0 #Pitamo kroz ceo DataFrame gde su brojevi veci od 0"
   ],
   "metadata": {
    "collapsed": false,
    "ExecuteTime": {
     "end_time": "2025-02-18T13:13:35.361046200Z",
     "start_time": "2025-02-18T13:13:35.332425500Z"
    }
   },
   "id": "91b650e203d20005",
   "execution_count": 35
  },
  {
   "cell_type": "code",
   "outputs": [
    {
     "data": {
      "text/plain": "    w     x     y     z\nA   2  79.0   NaN   NaN\nB   6   NaN  88.0   NaN\nC   2  21.0   NaN   NaN\nD  16   NaN   3.0  51.0\nE  30  49.0   NaN   NaN",
      "text/html": "<div>\n<style scoped>\n    .dataframe tbody tr th:only-of-type {\n        vertical-align: middle;\n    }\n\n    .dataframe tbody tr th {\n        vertical-align: top;\n    }\n\n    .dataframe thead th {\n        text-align: right;\n    }\n</style>\n<table border=\"1\" class=\"dataframe\">\n  <thead>\n    <tr style=\"text-align: right;\">\n      <th></th>\n      <th>w</th>\n      <th>x</th>\n      <th>y</th>\n      <th>z</th>\n    </tr>\n  </thead>\n  <tbody>\n    <tr>\n      <th>A</th>\n      <td>2</td>\n      <td>79.0</td>\n      <td>NaN</td>\n      <td>NaN</td>\n    </tr>\n    <tr>\n      <th>B</th>\n      <td>6</td>\n      <td>NaN</td>\n      <td>88.0</td>\n      <td>NaN</td>\n    </tr>\n    <tr>\n      <th>C</th>\n      <td>2</td>\n      <td>21.0</td>\n      <td>NaN</td>\n      <td>NaN</td>\n    </tr>\n    <tr>\n      <th>D</th>\n      <td>16</td>\n      <td>NaN</td>\n      <td>3.0</td>\n      <td>51.0</td>\n    </tr>\n    <tr>\n      <th>E</th>\n      <td>30</td>\n      <td>49.0</td>\n      <td>NaN</td>\n      <td>NaN</td>\n    </tr>\n  </tbody>\n</table>\n</div>"
     },
     "execution_count": 36,
     "metadata": {},
     "output_type": "execute_result"
    }
   ],
   "source": [
    "df[df > 0]"
   ],
   "metadata": {
    "collapsed": false,
    "ExecuteTime": {
     "end_time": "2025-02-18T13:14:02.327402700Z",
     "start_time": "2025-02-18T13:14:02.297849900Z"
    }
   },
   "id": "6bc4c5415f52556c",
   "execution_count": 36
  },
  {
   "cell_type": "code",
   "outputs": [
    {
     "data": {
      "text/plain": "    w   x   y   z\nA   2  79  -8 -86\nB   6 -29  88 -80\nC   2  21 -26 -13\nD  16  -1   3  51\nE  30  49 -48 -99",
      "text/html": "<div>\n<style scoped>\n    .dataframe tbody tr th:only-of-type {\n        vertical-align: middle;\n    }\n\n    .dataframe tbody tr th {\n        vertical-align: top;\n    }\n\n    .dataframe thead th {\n        text-align: right;\n    }\n</style>\n<table border=\"1\" class=\"dataframe\">\n  <thead>\n    <tr style=\"text-align: right;\">\n      <th></th>\n      <th>w</th>\n      <th>x</th>\n      <th>y</th>\n      <th>z</th>\n    </tr>\n  </thead>\n  <tbody>\n    <tr>\n      <th>A</th>\n      <td>2</td>\n      <td>79</td>\n      <td>-8</td>\n      <td>-86</td>\n    </tr>\n    <tr>\n      <th>B</th>\n      <td>6</td>\n      <td>-29</td>\n      <td>88</td>\n      <td>-80</td>\n    </tr>\n    <tr>\n      <th>C</th>\n      <td>2</td>\n      <td>21</td>\n      <td>-26</td>\n      <td>-13</td>\n    </tr>\n    <tr>\n      <th>D</th>\n      <td>16</td>\n      <td>-1</td>\n      <td>3</td>\n      <td>51</td>\n    </tr>\n    <tr>\n      <th>E</th>\n      <td>30</td>\n      <td>49</td>\n      <td>-48</td>\n      <td>-99</td>\n    </tr>\n  </tbody>\n</table>\n</div>"
     },
     "execution_count": 37,
     "metadata": {},
     "output_type": "execute_result"
    }
   ],
   "source": [
    "df"
   ],
   "metadata": {
    "collapsed": false,
    "ExecuteTime": {
     "end_time": "2025-02-18T13:14:07.408868700Z",
     "start_time": "2025-02-18T13:14:07.374972800Z"
    }
   },
   "id": "e7d12189a453ee6",
   "execution_count": 37
  },
  {
   "cell_type": "code",
   "outputs": [
    {
     "data": {
      "text/plain": "    w   x   y   z\nA   2  79  -8 -86\nC   2  21 -26 -13\nE  30  49 -48 -99",
      "text/html": "<div>\n<style scoped>\n    .dataframe tbody tr th:only-of-type {\n        vertical-align: middle;\n    }\n\n    .dataframe tbody tr th {\n        vertical-align: top;\n    }\n\n    .dataframe thead th {\n        text-align: right;\n    }\n</style>\n<table border=\"1\" class=\"dataframe\">\n  <thead>\n    <tr style=\"text-align: right;\">\n      <th></th>\n      <th>w</th>\n      <th>x</th>\n      <th>y</th>\n      <th>z</th>\n    </tr>\n  </thead>\n  <tbody>\n    <tr>\n      <th>A</th>\n      <td>2</td>\n      <td>79</td>\n      <td>-8</td>\n      <td>-86</td>\n    </tr>\n    <tr>\n      <th>C</th>\n      <td>2</td>\n      <td>21</td>\n      <td>-26</td>\n      <td>-13</td>\n    </tr>\n    <tr>\n      <th>E</th>\n      <td>30</td>\n      <td>49</td>\n      <td>-48</td>\n      <td>-99</td>\n    </tr>\n  </tbody>\n</table>\n</div>"
     },
     "execution_count": 40,
     "metadata": {},
     "output_type": "execute_result"
    }
   ],
   "source": [
    "df['x'] > 0 #vraca gde su sve brojevi veci od 0 u koloni x\n",
    "df[df['x']>0] #Broadcast, vratice samo tacne redove koji zadovoljavaju uslov da se u koloni x nalaze samo veci brojevi od 0"
   ],
   "metadata": {
    "collapsed": false,
    "ExecuteTime": {
     "end_time": "2025-02-18T13:16:16.116200700Z",
     "start_time": "2025-02-18T13:16:16.089420400Z"
    }
   },
   "id": "678cf9dbd8bbc069",
   "execution_count": 40
  },
  {
   "cell_type": "code",
   "outputs": [
    {
     "data": {
      "text/plain": "    w   x   y   z\nB   6 -29  88 -80\nD  16  -1   3  51",
      "text/html": "<div>\n<style scoped>\n    .dataframe tbody tr th:only-of-type {\n        vertical-align: middle;\n    }\n\n    .dataframe tbody tr th {\n        vertical-align: top;\n    }\n\n    .dataframe thead th {\n        text-align: right;\n    }\n</style>\n<table border=\"1\" class=\"dataframe\">\n  <thead>\n    <tr style=\"text-align: right;\">\n      <th></th>\n      <th>w</th>\n      <th>x</th>\n      <th>y</th>\n      <th>z</th>\n    </tr>\n  </thead>\n  <tbody>\n    <tr>\n      <th>B</th>\n      <td>6</td>\n      <td>-29</td>\n      <td>88</td>\n      <td>-80</td>\n    </tr>\n    <tr>\n      <th>D</th>\n      <td>16</td>\n      <td>-1</td>\n      <td>3</td>\n      <td>51</td>\n    </tr>\n  </tbody>\n</table>\n</div>"
     },
     "execution_count": 42,
     "metadata": {},
     "output_type": "execute_result"
    }
   ],
   "source": [
    "df[(df['w'] >0) & (df['y']>1)] #Provera gde je dataframe u koloni 'w' veci od 0 i u koloni 'y' veci od 1 u kojim redovima se to desava\n",
    " "
   ],
   "metadata": {
    "collapsed": false,
    "ExecuteTime": {
     "end_time": "2025-02-18T13:21:51.866403900Z",
     "start_time": "2025-02-18T13:21:51.856085500Z"
    }
   },
   "id": "d3426e9a09b1866",
   "execution_count": 42
  },
  {
   "cell_type": "code",
   "outputs": [
    {
     "data": {
      "text/plain": "    w   x   y   z\nA   2  79  -8 -86\nB   6 -29  88 -80\nC   2  21 -26 -13\nD  16  -1   3  51\nE  30  49 -48 -99",
      "text/html": "<div>\n<style scoped>\n    .dataframe tbody tr th:only-of-type {\n        vertical-align: middle;\n    }\n\n    .dataframe tbody tr th {\n        vertical-align: top;\n    }\n\n    .dataframe thead th {\n        text-align: right;\n    }\n</style>\n<table border=\"1\" class=\"dataframe\">\n  <thead>\n    <tr style=\"text-align: right;\">\n      <th></th>\n      <th>w</th>\n      <th>x</th>\n      <th>y</th>\n      <th>z</th>\n    </tr>\n  </thead>\n  <tbody>\n    <tr>\n      <th>A</th>\n      <td>2</td>\n      <td>79</td>\n      <td>-8</td>\n      <td>-86</td>\n    </tr>\n    <tr>\n      <th>B</th>\n      <td>6</td>\n      <td>-29</td>\n      <td>88</td>\n      <td>-80</td>\n    </tr>\n    <tr>\n      <th>C</th>\n      <td>2</td>\n      <td>21</td>\n      <td>-26</td>\n      <td>-13</td>\n    </tr>\n    <tr>\n      <th>D</th>\n      <td>16</td>\n      <td>-1</td>\n      <td>3</td>\n      <td>51</td>\n    </tr>\n    <tr>\n      <th>E</th>\n      <td>30</td>\n      <td>49</td>\n      <td>-48</td>\n      <td>-99</td>\n    </tr>\n  </tbody>\n</table>\n</div>"
     },
     "execution_count": 43,
     "metadata": {},
     "output_type": "execute_result"
    }
   ],
   "source": [
    "df"
   ],
   "metadata": {
    "collapsed": false,
    "ExecuteTime": {
     "end_time": "2025-02-18T13:22:51.724269900Z",
     "start_time": "2025-02-18T13:22:51.686975300Z"
    }
   },
   "id": "16fb3d01f9f0a9ee",
   "execution_count": 43
  },
  {
   "cell_type": "code",
   "outputs": [
    {
     "data": {
      "text/plain": "  index   w   x   y   z\n0     A   2  79  -8 -86\n1     B   6 -29  88 -80\n2     C   2  21 -26 -13\n3     D  16  -1   3  51\n4     E  30  49 -48 -99",
      "text/html": "<div>\n<style scoped>\n    .dataframe tbody tr th:only-of-type {\n        vertical-align: middle;\n    }\n\n    .dataframe tbody tr th {\n        vertical-align: top;\n    }\n\n    .dataframe thead th {\n        text-align: right;\n    }\n</style>\n<table border=\"1\" class=\"dataframe\">\n  <thead>\n    <tr style=\"text-align: right;\">\n      <th></th>\n      <th>index</th>\n      <th>w</th>\n      <th>x</th>\n      <th>y</th>\n      <th>z</th>\n    </tr>\n  </thead>\n  <tbody>\n    <tr>\n      <th>0</th>\n      <td>A</td>\n      <td>2</td>\n      <td>79</td>\n      <td>-8</td>\n      <td>-86</td>\n    </tr>\n    <tr>\n      <th>1</th>\n      <td>B</td>\n      <td>6</td>\n      <td>-29</td>\n      <td>88</td>\n      <td>-80</td>\n    </tr>\n    <tr>\n      <th>2</th>\n      <td>C</td>\n      <td>2</td>\n      <td>21</td>\n      <td>-26</td>\n      <td>-13</td>\n    </tr>\n    <tr>\n      <th>3</th>\n      <td>D</td>\n      <td>16</td>\n      <td>-1</td>\n      <td>3</td>\n      <td>51</td>\n    </tr>\n    <tr>\n      <th>4</th>\n      <td>E</td>\n      <td>30</td>\n      <td>49</td>\n      <td>-48</td>\n      <td>-99</td>\n    </tr>\n  </tbody>\n</table>\n</div>"
     },
     "execution_count": 44,
     "metadata": {},
     "output_type": "execute_result"
    }
   ],
   "source": [
    "#Ako hocemo da stavimo prave indexe i da zadrzimo stare koristimo\n",
    "df.reset_index() #Ovo se ne radi na originalu"
   ],
   "metadata": {
    "collapsed": false,
    "ExecuteTime": {
     "end_time": "2025-02-18T13:23:29.316533400Z",
     "start_time": "2025-02-18T13:23:29.285773700Z"
    }
   },
   "id": "861691147858f56b",
   "execution_count": 44
  },
  {
   "cell_type": "code",
   "outputs": [],
   "source": [
    "#Kreiranje nove kolone\n",
    "new_ind = ['CA', 'NY', 'WY', 'OR', 'CO']\n",
    "df['states'] = new_ind"
   ],
   "metadata": {
    "collapsed": false,
    "ExecuteTime": {
     "end_time": "2025-02-18T13:24:50.955436Z",
     "start_time": "2025-02-18T13:24:50.936895100Z"
    }
   },
   "id": "24146c46bde6ed62",
   "execution_count": 45
  },
  {
   "cell_type": "code",
   "outputs": [
    {
     "data": {
      "text/plain": "    w   x   y   z states\nA   2  79  -8 -86     CA\nB   6 -29  88 -80     NY\nC   2  21 -26 -13     WY\nD  16  -1   3  51     OR\nE  30  49 -48 -99     CO",
      "text/html": "<div>\n<style scoped>\n    .dataframe tbody tr th:only-of-type {\n        vertical-align: middle;\n    }\n\n    .dataframe tbody tr th {\n        vertical-align: top;\n    }\n\n    .dataframe thead th {\n        text-align: right;\n    }\n</style>\n<table border=\"1\" class=\"dataframe\">\n  <thead>\n    <tr style=\"text-align: right;\">\n      <th></th>\n      <th>w</th>\n      <th>x</th>\n      <th>y</th>\n      <th>z</th>\n      <th>states</th>\n    </tr>\n  </thead>\n  <tbody>\n    <tr>\n      <th>A</th>\n      <td>2</td>\n      <td>79</td>\n      <td>-8</td>\n      <td>-86</td>\n      <td>CA</td>\n    </tr>\n    <tr>\n      <th>B</th>\n      <td>6</td>\n      <td>-29</td>\n      <td>88</td>\n      <td>-80</td>\n      <td>NY</td>\n    </tr>\n    <tr>\n      <th>C</th>\n      <td>2</td>\n      <td>21</td>\n      <td>-26</td>\n      <td>-13</td>\n      <td>WY</td>\n    </tr>\n    <tr>\n      <th>D</th>\n      <td>16</td>\n      <td>-1</td>\n      <td>3</td>\n      <td>51</td>\n      <td>OR</td>\n    </tr>\n    <tr>\n      <th>E</th>\n      <td>30</td>\n      <td>49</td>\n      <td>-48</td>\n      <td>-99</td>\n      <td>CO</td>\n    </tr>\n  </tbody>\n</table>\n</div>"
     },
     "execution_count": 46,
     "metadata": {},
     "output_type": "execute_result"
    }
   ],
   "source": [
    "df"
   ],
   "metadata": {
    "collapsed": false,
    "ExecuteTime": {
     "end_time": "2025-02-18T13:24:55.655598100Z",
     "start_time": "2025-02-18T13:24:55.623018400Z"
    }
   },
   "id": "75b59421c26ac560",
   "execution_count": 46
  },
  {
   "cell_type": "code",
   "outputs": [],
   "source": [
    "df.set_index('states', inplace=True)"
   ],
   "metadata": {
    "collapsed": false,
    "ExecuteTime": {
     "end_time": "2025-02-18T13:25:47.430013100Z",
     "start_time": "2025-02-18T13:25:47.401449200Z"
    }
   },
   "id": "77b5f8fef2805cd0",
   "execution_count": 47
  },
  {
   "cell_type": "code",
   "outputs": [
    {
     "data": {
      "text/plain": "         w   x   y   z\nstates                \nCA       2  79  -8 -86\nNY       6 -29  88 -80\nWY       2  21 -26 -13\nOR      16  -1   3  51\nCO      30  49 -48 -99",
      "text/html": "<div>\n<style scoped>\n    .dataframe tbody tr th:only-of-type {\n        vertical-align: middle;\n    }\n\n    .dataframe tbody tr th {\n        vertical-align: top;\n    }\n\n    .dataframe thead th {\n        text-align: right;\n    }\n</style>\n<table border=\"1\" class=\"dataframe\">\n  <thead>\n    <tr style=\"text-align: right;\">\n      <th></th>\n      <th>w</th>\n      <th>x</th>\n      <th>y</th>\n      <th>z</th>\n    </tr>\n    <tr>\n      <th>states</th>\n      <th></th>\n      <th></th>\n      <th></th>\n      <th></th>\n    </tr>\n  </thead>\n  <tbody>\n    <tr>\n      <th>CA</th>\n      <td>2</td>\n      <td>79</td>\n      <td>-8</td>\n      <td>-86</td>\n    </tr>\n    <tr>\n      <th>NY</th>\n      <td>6</td>\n      <td>-29</td>\n      <td>88</td>\n      <td>-80</td>\n    </tr>\n    <tr>\n      <th>WY</th>\n      <td>2</td>\n      <td>21</td>\n      <td>-26</td>\n      <td>-13</td>\n    </tr>\n    <tr>\n      <th>OR</th>\n      <td>16</td>\n      <td>-1</td>\n      <td>3</td>\n      <td>51</td>\n    </tr>\n    <tr>\n      <th>CO</th>\n      <td>30</td>\n      <td>49</td>\n      <td>-48</td>\n      <td>-99</td>\n    </tr>\n  </tbody>\n</table>\n</div>"
     },
     "execution_count": 48,
     "metadata": {},
     "output_type": "execute_result"
    }
   ],
   "source": [
    "df.set_index()"
   ],
   "metadata": {
    "collapsed": false,
    "ExecuteTime": {
     "end_time": "2025-02-18T13:25:52.204723800Z",
     "start_time": "2025-02-18T13:25:52.172953500Z"
    }
   },
   "id": "47fc411c794029d3",
   "execution_count": 48
  },
  {
   "cell_type": "code",
   "outputs": [
    {
     "ename": "NameError",
     "evalue": "name 'df' is not defined",
     "output_type": "error",
     "traceback": [
      "\u001B[1;31m---------------------------------------------------------------------------\u001B[0m",
      "\u001B[1;31mNameError\u001B[0m                                 Traceback (most recent call last)",
      "Cell \u001B[1;32mIn[1], line 1\u001B[0m\n\u001B[1;32m----> 1\u001B[0m \u001B[43mdf\u001B[49m\n",
      "\u001B[1;31mNameError\u001B[0m: name 'df' is not defined"
     ]
    }
   ],
   "source": [
    "df"
   ],
   "metadata": {
    "collapsed": false,
    "ExecuteTime": {
     "end_time": "2025-02-22T13:34:47.793681200Z",
     "start_time": "2025-02-22T13:34:47.462717700Z"
    }
   },
   "id": "25b743f53d673f62",
   "execution_count": 1
  },
  {
   "cell_type": "code",
   "outputs": [],
   "source": [
    "#MISSING DATA\n",
    "#3 Mogucnosti: Brisanje tih redova \n",
    "# ostaviti takav podatak\n",
    "# popuniti nekim vrednostima\n",
    "df = pd.DataFrame({\n",
    "    'A':[1,2,np.nan,4],\n",
    "    'B':[5,np.nan, np.nan,8],\n",
    "    'C':[10,20,30,40]\n",
    "})"
   ],
   "metadata": {
    "collapsed": false,
    "ExecuteTime": {
     "end_time": "2025-02-22T13:40:53.664821900Z",
     "start_time": "2025-02-22T13:40:53.647384400Z"
    }
   },
   "id": "efb52761c095f187",
   "execution_count": 9
  },
  {
   "cell_type": "code",
   "outputs": [
    {
     "data": {
      "text/plain": "     A    B   C\n0  1.0  5.0  10\n1  2.0  NaN  20\n2  NaN  NaN  30\n3  4.0  8.0  40",
      "text/html": "<div>\n<style scoped>\n    .dataframe tbody tr th:only-of-type {\n        vertical-align: middle;\n    }\n\n    .dataframe tbody tr th {\n        vertical-align: top;\n    }\n\n    .dataframe thead th {\n        text-align: right;\n    }\n</style>\n<table border=\"1\" class=\"dataframe\">\n  <thead>\n    <tr style=\"text-align: right;\">\n      <th></th>\n      <th>A</th>\n      <th>B</th>\n      <th>C</th>\n    </tr>\n  </thead>\n  <tbody>\n    <tr>\n      <th>0</th>\n      <td>1.0</td>\n      <td>5.0</td>\n      <td>10</td>\n    </tr>\n    <tr>\n      <th>1</th>\n      <td>2.0</td>\n      <td>NaN</td>\n      <td>20</td>\n    </tr>\n    <tr>\n      <th>2</th>\n      <td>NaN</td>\n      <td>NaN</td>\n      <td>30</td>\n    </tr>\n    <tr>\n      <th>3</th>\n      <td>4.0</td>\n      <td>8.0</td>\n      <td>40</td>\n    </tr>\n  </tbody>\n</table>\n</div>"
     },
     "execution_count": 10,
     "metadata": {},
     "output_type": "execute_result"
    }
   ],
   "source": [
    "df"
   ],
   "metadata": {
    "collapsed": false,
    "ExecuteTime": {
     "end_time": "2025-02-22T13:40:55.056401900Z",
     "start_time": "2025-02-22T13:40:54.997859600Z"
    }
   },
   "id": "a6e84c2ade5e72e7",
   "execution_count": 10
  },
  {
   "cell_type": "code",
   "outputs": [
    {
     "data": {
      "text/plain": "     A    B   C\n0  1.0  5.0  10\n1  2.0  NaN  20\n2  NaN  NaN  30\n3  4.0  8.0  40",
      "text/html": "<div>\n<style scoped>\n    .dataframe tbody tr th:only-of-type {\n        vertical-align: middle;\n    }\n\n    .dataframe tbody tr th {\n        vertical-align: top;\n    }\n\n    .dataframe thead th {\n        text-align: right;\n    }\n</style>\n<table border=\"1\" class=\"dataframe\">\n  <thead>\n    <tr style=\"text-align: right;\">\n      <th></th>\n      <th>A</th>\n      <th>B</th>\n      <th>C</th>\n    </tr>\n  </thead>\n  <tbody>\n    <tr>\n      <th>0</th>\n      <td>1.0</td>\n      <td>5.0</td>\n      <td>10</td>\n    </tr>\n    <tr>\n      <th>1</th>\n      <td>2.0</td>\n      <td>NaN</td>\n      <td>20</td>\n    </tr>\n    <tr>\n      <th>2</th>\n      <td>NaN</td>\n      <td>NaN</td>\n      <td>30</td>\n    </tr>\n    <tr>\n      <th>3</th>\n      <td>4.0</td>\n      <td>8.0</td>\n      <td>40</td>\n    </tr>\n  </tbody>\n</table>\n</div>"
     },
     "execution_count": 13,
     "metadata": {},
     "output_type": "execute_result"
    }
   ],
   "source": [
    "#Brisanje nedostajucih podataka\n",
    "df.dropna(axis=1, thresh=2)\n",
    "df"
   ],
   "metadata": {
    "collapsed": false,
    "ExecuteTime": {
     "end_time": "2025-02-22T13:44:12.483571500Z",
     "start_time": "2025-02-22T13:44:12.462649200Z"
    }
   },
   "id": "bc87b397fd44f829",
   "execution_count": 13
  },
  {
   "cell_type": "code",
   "outputs": [
    {
     "data": {
      "text/plain": "            A           B   C\n0         1.0         5.0  10\n1         2.0  FILL VALUE  20\n2  FILL VALUE  FILL VALUE  30\n3         4.0         8.0  40",
      "text/html": "<div>\n<style scoped>\n    .dataframe tbody tr th:only-of-type {\n        vertical-align: middle;\n    }\n\n    .dataframe tbody tr th {\n        vertical-align: top;\n    }\n\n    .dataframe thead th {\n        text-align: right;\n    }\n</style>\n<table border=\"1\" class=\"dataframe\">\n  <thead>\n    <tr style=\"text-align: right;\">\n      <th></th>\n      <th>A</th>\n      <th>B</th>\n      <th>C</th>\n    </tr>\n  </thead>\n  <tbody>\n    <tr>\n      <th>0</th>\n      <td>1.0</td>\n      <td>5.0</td>\n      <td>10</td>\n    </tr>\n    <tr>\n      <th>1</th>\n      <td>2.0</td>\n      <td>FILL VALUE</td>\n      <td>20</td>\n    </tr>\n    <tr>\n      <th>2</th>\n      <td>FILL VALUE</td>\n      <td>FILL VALUE</td>\n      <td>30</td>\n    </tr>\n    <tr>\n      <th>3</th>\n      <td>4.0</td>\n      <td>8.0</td>\n      <td>40</td>\n    </tr>\n  </tbody>\n</table>\n</div>"
     },
     "execution_count": 14,
     "metadata": {},
     "output_type": "execute_result"
    }
   ],
   "source": [
    "df.fillna(value='FILL VALUE') #Pandasu nije bitno sta ce se staviti ovde"
   ],
   "metadata": {
    "collapsed": false,
    "ExecuteTime": {
     "end_time": "2025-02-22T13:44:22.351892600Z",
     "start_time": "2025-02-22T13:44:22.312392Z"
    }
   },
   "id": "24c91ac84ca2735d",
   "execution_count": 14
  },
  {
   "cell_type": "code",
   "outputs": [
    {
     "data": {
      "text/plain": "0    1.0\n1    2.0\n2    0.0\n3    4.0\nName: A, dtype: float64"
     },
     "execution_count": 15,
     "metadata": {},
     "output_type": "execute_result"
    }
   ],
   "source": [
    "df['A'].fillna(value=0)"
   ],
   "metadata": {
    "collapsed": false,
    "ExecuteTime": {
     "end_time": "2025-02-22T13:45:51.482747300Z",
     "start_time": "2025-02-22T13:45:51.430530700Z"
    }
   },
   "id": "79d9bba5f837ab93",
   "execution_count": 15
  },
  {
   "cell_type": "code",
   "outputs": [
    {
     "data": {
      "text/plain": "0    5.0\n1    6.5\n2    6.5\n3    8.0\nName: B, dtype: float64"
     },
     "execution_count": 17,
     "metadata": {},
     "output_type": "execute_result"
    }
   ],
   "source": [
    "df['B'].fillna(value=df['B'].mean()) # Popunice kolonu B sa prosekom iz kolone B i funkcija radi na osnovu svake kolone ne na osnovu celog dataFrame-a"
   ],
   "metadata": {
    "collapsed": false,
    "ExecuteTime": {
     "end_time": "2025-02-22T13:46:48.813686800Z",
     "start_time": "2025-02-22T13:46:48.801033200Z"
    }
   },
   "id": "e9e532101bb3ed73",
   "execution_count": 17
  },
  {
   "cell_type": "code",
   "outputs": [],
   "source": [
    "import pandas as pd\n",
    "df = pd.read_csv(\"C:/Users/Windows/Desktop/SauSau/TensorFlow/Tensorflow-Bootcamp-master/Tf kurs/TF_2_Notebooks_and_Data/01-Pandas-Crash-Course/Universities.csv\")"
   ],
   "metadata": {
    "collapsed": false,
    "ExecuteTime": {
     "end_time": "2025-03-04T08:39:12.784219600Z",
     "start_time": "2025-03-04T08:39:10.870721800Z"
    }
   },
   "id": "c06ae2dbbab1b22d",
   "execution_count": 2
  },
  {
   "cell_type": "code",
   "outputs": [
    {
     "data": {
      "text/plain": "                                 Sector  \\\n0            Private for-profit, 2-year   \n1  Private for-profit, less-than 2-year   \n2  Private for-profit, less-than 2-year   \n3  Private for-profit, less-than 2-year   \n4               Public, 4-year or above   \n\n                              University  Year  Completions Geography  \n0       Pima Medical Institute-Las Vegas  2016          591    Nevada  \n1       Healthcare Preparatory Institute  2016           28    Nevada  \n2              Milan Institute-Las Vegas  2016          408    Nevada  \n3  Utah College of Massage Therapy-Vegas  2016          240    Nevada  \n4                 Western Nevada College  2016          960    Nevada  ",
      "text/html": "<div>\n<style scoped>\n    .dataframe tbody tr th:only-of-type {\n        vertical-align: middle;\n    }\n\n    .dataframe tbody tr th {\n        vertical-align: top;\n    }\n\n    .dataframe thead th {\n        text-align: right;\n    }\n</style>\n<table border=\"1\" class=\"dataframe\">\n  <thead>\n    <tr style=\"text-align: right;\">\n      <th></th>\n      <th>Sector</th>\n      <th>University</th>\n      <th>Year</th>\n      <th>Completions</th>\n      <th>Geography</th>\n    </tr>\n  </thead>\n  <tbody>\n    <tr>\n      <th>0</th>\n      <td>Private for-profit, 2-year</td>\n      <td>Pima Medical Institute-Las Vegas</td>\n      <td>2016</td>\n      <td>591</td>\n      <td>Nevada</td>\n    </tr>\n    <tr>\n      <th>1</th>\n      <td>Private for-profit, less-than 2-year</td>\n      <td>Healthcare Preparatory Institute</td>\n      <td>2016</td>\n      <td>28</td>\n      <td>Nevada</td>\n    </tr>\n    <tr>\n      <th>2</th>\n      <td>Private for-profit, less-than 2-year</td>\n      <td>Milan Institute-Las Vegas</td>\n      <td>2016</td>\n      <td>408</td>\n      <td>Nevada</td>\n    </tr>\n    <tr>\n      <th>3</th>\n      <td>Private for-profit, less-than 2-year</td>\n      <td>Utah College of Massage Therapy-Vegas</td>\n      <td>2016</td>\n      <td>240</td>\n      <td>Nevada</td>\n    </tr>\n    <tr>\n      <th>4</th>\n      <td>Public, 4-year or above</td>\n      <td>Western Nevada College</td>\n      <td>2016</td>\n      <td>960</td>\n      <td>Nevada</td>\n    </tr>\n  </tbody>\n</table>\n</div>"
     },
     "execution_count": 3,
     "metadata": {},
     "output_type": "execute_result"
    }
   ],
   "source": [
    "df.head()"
   ],
   "metadata": {
    "collapsed": false,
    "ExecuteTime": {
     "end_time": "2025-03-04T08:39:15.327494500Z",
     "start_time": "2025-03-04T08:39:15.237575100Z"
    }
   },
   "id": "de32de3cd8bebcbe",
   "execution_count": 3
  },
  {
   "cell_type": "code",
   "outputs": [
    {
     "data": {
      "text/plain": "                                                 Sector  \\\nYear                                                      \n2012  Private for-profit, less-than 2-yearPrivate fo...   \n2013  Private for-profit, 2-yearPrivate for-profit, ...   \n2014  Private not-for-profit, 4-year or abovePrivate...   \n2015  Private for-profit, 2-yearPrivate not-for-prof...   \n2016  Private for-profit, 2-yearPrivate for-profit, ...   \n\n                                             University  Completions  \\\nYear                                                                   \n2012  Academy of Hair Design-Las VegasCareer College...        20333   \n2013  Aviation Institute of Maintenance-Las VegasDeV...        21046   \n2014  Roseman University of Health SciencesExpertise...        24730   \n2015  Pima Medical Institute-Las VegasRoseman Univer...        26279   \n2016  Pima Medical Institute-Las VegasHealthcare Pre...        26224   \n\n                                              Geography  \nYear                                                     \n2012  NevadaNevadaNevadaNevadaNevadaNevadaNevadaNeva...  \n2013  NevadaNevadaNevadaNevadaNevadaNevadaNevadaNeva...  \n2014  NevadaNevadaNevadaNevadaNevadaNevadaNevadaNeva...  \n2015  NevadaNevadaNevadaNevadaNevadaNevadaNevadaNeva...  \n2016  NevadaNevadaNevadaNevadaNevadaNevadaNevadaNeva...  ",
      "text/html": "<div>\n<style scoped>\n    .dataframe tbody tr th:only-of-type {\n        vertical-align: middle;\n    }\n\n    .dataframe tbody tr th {\n        vertical-align: top;\n    }\n\n    .dataframe thead th {\n        text-align: right;\n    }\n</style>\n<table border=\"1\" class=\"dataframe\">\n  <thead>\n    <tr style=\"text-align: right;\">\n      <th></th>\n      <th>Sector</th>\n      <th>University</th>\n      <th>Completions</th>\n      <th>Geography</th>\n    </tr>\n    <tr>\n      <th>Year</th>\n      <th></th>\n      <th></th>\n      <th></th>\n      <th></th>\n    </tr>\n  </thead>\n  <tbody>\n    <tr>\n      <th>2012</th>\n      <td>Private for-profit, less-than 2-yearPrivate fo...</td>\n      <td>Academy of Hair Design-Las VegasCareer College...</td>\n      <td>20333</td>\n      <td>NevadaNevadaNevadaNevadaNevadaNevadaNevadaNeva...</td>\n    </tr>\n    <tr>\n      <th>2013</th>\n      <td>Private for-profit, 2-yearPrivate for-profit, ...</td>\n      <td>Aviation Institute of Maintenance-Las VegasDeV...</td>\n      <td>21046</td>\n      <td>NevadaNevadaNevadaNevadaNevadaNevadaNevadaNeva...</td>\n    </tr>\n    <tr>\n      <th>2014</th>\n      <td>Private not-for-profit, 4-year or abovePrivate...</td>\n      <td>Roseman University of Health SciencesExpertise...</td>\n      <td>24730</td>\n      <td>NevadaNevadaNevadaNevadaNevadaNevadaNevadaNeva...</td>\n    </tr>\n    <tr>\n      <th>2015</th>\n      <td>Private for-profit, 2-yearPrivate not-for-prof...</td>\n      <td>Pima Medical Institute-Las VegasRoseman Univer...</td>\n      <td>26279</td>\n      <td>NevadaNevadaNevadaNevadaNevadaNevadaNevadaNeva...</td>\n    </tr>\n    <tr>\n      <th>2016</th>\n      <td>Private for-profit, 2-yearPrivate for-profit, ...</td>\n      <td>Pima Medical Institute-Las VegasHealthcare Pre...</td>\n      <td>26224</td>\n      <td>NevadaNevadaNevadaNevadaNevadaNevadaNevadaNeva...</td>\n    </tr>\n  </tbody>\n</table>\n</div>"
     },
     "execution_count": 5,
     "metadata": {},
     "output_type": "execute_result"
    }
   ],
   "source": [
    "df.groupby('Year').sum()"
   ],
   "metadata": {
    "collapsed": false,
    "ExecuteTime": {
     "end_time": "2025-03-04T08:44:37.591927700Z",
     "start_time": "2025-03-04T08:44:37.446844400Z"
    }
   },
   "id": "557b6fc6b7ad2fac",
   "execution_count": 5
  },
  {
   "cell_type": "code",
   "outputs": [
    {
     "data": {
      "text/plain": "                                                 Sector  \\\nYear                                                      \n2016  Private for-profit, 2-yearPrivate for-profit, ...   \n2015  Private for-profit, 2-yearPrivate not-for-prof...   \n2014  Private not-for-profit, 4-year or abovePrivate...   \n2013  Private for-profit, 2-yearPrivate for-profit, ...   \n2012  Private for-profit, less-than 2-yearPrivate fo...   \n\n                                             University  Completions  \\\nYear                                                                   \n2016  Pima Medical Institute-Las VegasHealthcare Pre...        26224   \n2015  Pima Medical Institute-Las VegasRoseman Univer...        26279   \n2014  Roseman University of Health SciencesExpertise...        24730   \n2013  Aviation Institute of Maintenance-Las VegasDeV...        21046   \n2012  Academy of Hair Design-Las VegasCareer College...        20333   \n\n                                              Geography  \nYear                                                     \n2016  NevadaNevadaNevadaNevadaNevadaNevadaNevadaNeva...  \n2015  NevadaNevadaNevadaNevadaNevadaNevadaNevadaNeva...  \n2014  NevadaNevadaNevadaNevadaNevadaNevadaNevadaNeva...  \n2013  NevadaNevadaNevadaNevadaNevadaNevadaNevadaNeva...  \n2012  NevadaNevadaNevadaNevadaNevadaNevadaNevadaNeva...  ",
      "text/html": "<div>\n<style scoped>\n    .dataframe tbody tr th:only-of-type {\n        vertical-align: middle;\n    }\n\n    .dataframe tbody tr th {\n        vertical-align: top;\n    }\n\n    .dataframe thead th {\n        text-align: right;\n    }\n</style>\n<table border=\"1\" class=\"dataframe\">\n  <thead>\n    <tr style=\"text-align: right;\">\n      <th></th>\n      <th>Sector</th>\n      <th>University</th>\n      <th>Completions</th>\n      <th>Geography</th>\n    </tr>\n    <tr>\n      <th>Year</th>\n      <th></th>\n      <th></th>\n      <th></th>\n      <th></th>\n    </tr>\n  </thead>\n  <tbody>\n    <tr>\n      <th>2016</th>\n      <td>Private for-profit, 2-yearPrivate for-profit, ...</td>\n      <td>Pima Medical Institute-Las VegasHealthcare Pre...</td>\n      <td>26224</td>\n      <td>NevadaNevadaNevadaNevadaNevadaNevadaNevadaNeva...</td>\n    </tr>\n    <tr>\n      <th>2015</th>\n      <td>Private for-profit, 2-yearPrivate not-for-prof...</td>\n      <td>Pima Medical Institute-Las VegasRoseman Univer...</td>\n      <td>26279</td>\n      <td>NevadaNevadaNevadaNevadaNevadaNevadaNevadaNeva...</td>\n    </tr>\n    <tr>\n      <th>2014</th>\n      <td>Private not-for-profit, 4-year or abovePrivate...</td>\n      <td>Roseman University of Health SciencesExpertise...</td>\n      <td>24730</td>\n      <td>NevadaNevadaNevadaNevadaNevadaNevadaNevadaNeva...</td>\n    </tr>\n    <tr>\n      <th>2013</th>\n      <td>Private for-profit, 2-yearPrivate for-profit, ...</td>\n      <td>Aviation Institute of Maintenance-Las VegasDeV...</td>\n      <td>21046</td>\n      <td>NevadaNevadaNevadaNevadaNevadaNevadaNevadaNeva...</td>\n    </tr>\n    <tr>\n      <th>2012</th>\n      <td>Private for-profit, less-than 2-yearPrivate fo...</td>\n      <td>Academy of Hair Design-Las VegasCareer College...</td>\n      <td>20333</td>\n      <td>NevadaNevadaNevadaNevadaNevadaNevadaNevadaNeva...</td>\n    </tr>\n  </tbody>\n</table>\n</div>"
     },
     "execution_count": 7,
     "metadata": {},
     "output_type": "execute_result"
    }
   ],
   "source": [
    "df.groupby('Year').sum().sort_index(ascending=False)"
   ],
   "metadata": {
    "collapsed": false,
    "ExecuteTime": {
     "end_time": "2025-03-04T08:53:38.905742100Z",
     "start_time": "2025-03-04T08:53:38.773240300Z"
    }
   },
   "id": "13581c8563a83089",
   "execution_count": 7
  },
  {
   "cell_type": "code",
   "outputs": [
    {
     "data": {
      "text/plain": "                                                                                     University  \\\nYear Sector                                                                                       \n2012 Private for-profit, 2-year               Career College of Northern NevadaPaul Mitchell...   \n     Private for-profit, 4-year or above      Sanford-Brown College-Las VegasITT Technical I...   \n     Private for-profit, less-than 2-year     Academy of Hair Design-Las VegasMilan Institut...   \n     Private not-for-profit, 2-year           Everest College-HendersonExpertise Cosmetology...   \n     Private not-for-profit, 4-year or above  Roseman University of Health SciencesTouro Uni...   \n     Public, 2-year                                           Truckee Meadows Community College   \n     Public, 4-year or above                  University of Nevada-RenoCollege of Southern N...   \n2013 Private for-profit, 2-year               Aviation Institute of Maintenance-Las VegasCar...   \n     Private for-profit, 4-year or above      DeVry University-NevadaITT Technical Institute...   \n     Private for-profit, less-than 2-year     Academy of Hair Design-Las VegasMilan Institut...   \n     Private not-for-profit, 2-year           Expertise Cosmetology InstituteEverest College...   \n     Private not-for-profit, 4-year or above  Roseman University of Health SciencesTouro Uni...   \n     Public, 2-year                                           Truckee Meadows Community College   \n     Public, 4-year or above                  University of Nevada-RenoUniversity of Nevada-...   \n2014 Private for-profit, 2-year               Nevada Career InstituteEuphoria Institute of B...   \n     Private for-profit, 4-year or above      Sanford-Brown College-Las VegasThe Art Institu...   \n     Private for-profit, less-than 2-year     Healthcare Preparatory InstituteMilan Institut...   \n     Private not-for-profit, 2-year           Expertise Cosmetology InstituteEverest College...   \n     Private not-for-profit, 4-year or above  Roseman University of Health SciencesSierra Ne...   \n     Public, 2-year                                           Truckee Meadows Community College   \n     Public, 4-year or above                  College of Southern NevadaWestern Nevada Colle...   \n2015 Private for-profit, 2-year               Pima Medical Institute-Las VegasBrightwood Col...   \n     Private for-profit, 4-year or above      ITT Technical Institute-Las VegasUniversity of...   \n     Private for-profit, less-than 2-year     Milan Institute-SparksHealthcare Preparatory I...   \n     Private not-for-profit, 2-year           Everest College-HendersonExpertise Cosmetology...   \n     Private not-for-profit, 4-year or above  Roseman University of Health SciencesSierra Ne...   \n     Public, 2-year                                           Truckee Meadows Community College   \n     Public, 4-year or above                  University of Nevada-Las VegasGreat Basin Coll...   \n2016 Private for-profit, 2-year               Pima Medical Institute-Las VegasNorthwest Care...   \n     Private for-profit, 4-year or above      University of Phoenix-NevadaChamberlain Colleg...   \n     Private for-profit, less-than 2-year     Healthcare Preparatory InstituteMilan Institut...   \n     Private not-for-profit, 2-year           Everest College-HendersonExpertise Cosmetology...   \n     Private not-for-profit, 4-year or above  Sierra Nevada CollegeWongu University of Orien...   \n     Public, 2-year                                           Truckee Meadows Community College   \n     Public, 4-year or above                  Western Nevada CollegeGreat Basin CollegeNevad...   \n\n                                              Completions  \\\nYear Sector                                                 \n2012 Private for-profit, 2-year                      3072   \n     Private for-profit, 4-year or above              632   \n     Private for-profit, less-than 2-year            1327   \n     Private not-for-profit, 2-year                   665   \n     Private not-for-profit, 4-year or above         1059   \n     Public, 2-year                                  1170   \n     Public, 4-year or above                        12408   \n2013 Private for-profit, 2-year                      3053   \n     Private for-profit, 4-year or above              775   \n     Private for-profit, less-than 2-year            1281   \n     Private not-for-profit, 2-year                   471   \n     Private not-for-profit, 4-year or above         1016   \n     Public, 2-year                                  1633   \n     Public, 4-year or above                        12817   \n2014 Private for-profit, 2-year                      2957   \n     Private for-profit, 4-year or above             1506   \n     Private for-profit, less-than 2-year            1328   \n     Private not-for-profit, 2-year                   449   \n     Private not-for-profit, 4-year or above         1042   \n     Public, 2-year                                  2286   \n     Public, 4-year or above                        15162   \n2015 Private for-profit, 2-year                      3280   \n     Private for-profit, 4-year or above             1306   \n     Private for-profit, less-than 2-year            1629   \n     Private not-for-profit, 2-year                   425   \n     Private not-for-profit, 4-year or above         1228   \n     Public, 2-year                                  2355   \n     Public, 4-year or above                        16056   \n2016 Private for-profit, 2-year                      3286   \n     Private for-profit, 4-year or above              748   \n     Private for-profit, less-than 2-year            1552   \n     Private not-for-profit, 2-year                   322   \n     Private not-for-profit, 4-year or above         1208   \n     Public, 2-year                                  2431   \n     Public, 4-year or above                        16677   \n\n                                                                                      Geography  \nYear Sector                                                                                      \n2012 Private for-profit, 2-year               NevadaNevadaNevadaNevadaNevadaNevadaNevadaNeva...  \n     Private for-profit, 4-year or above                               NevadaNevadaNevadaNevada  \n     Private for-profit, less-than 2-year            NevadaNevadaNevadaNevadaNevadaNevadaNevada  \n     Private not-for-profit, 2-year                                                NevadaNevada  \n     Private not-for-profit, 4-year or above                                 NevadaNevadaNevada  \n     Public, 2-year                                                                      Nevada  \n     Public, 4-year or above                               NevadaNevadaNevadaNevadaNevadaNevada  \n2013 Private for-profit, 2-year               NevadaNevadaNevadaNevadaNevadaNevadaNevadaNeva...  \n     Private for-profit, 4-year or above                         NevadaNevadaNevadaNevadaNevada  \n     Private for-profit, less-than 2-year            NevadaNevadaNevadaNevadaNevadaNevadaNevada  \n     Private not-for-profit, 2-year                                                NevadaNevada  \n     Private not-for-profit, 4-year or above                                 NevadaNevadaNevada  \n     Public, 2-year                                                                      Nevada  \n     Public, 4-year or above                               NevadaNevadaNevadaNevadaNevadaNevada  \n2014 Private for-profit, 2-year               NevadaNevadaNevadaNevadaNevadaNevadaNevadaNeva...  \n     Private for-profit, 4-year or above                   NevadaNevadaNevadaNevadaNevadaNevada  \n     Private for-profit, less-than 2-year      NevadaNevadaNevadaNevadaNevadaNevadaNevadaNevada  \n     Private not-for-profit, 2-year                                                NevadaNevada  \n     Private not-for-profit, 4-year or above                                 NevadaNevadaNevada  \n     Public, 2-year                                                                      Nevada  \n     Public, 4-year or above                               NevadaNevadaNevadaNevadaNevadaNevada  \n2015 Private for-profit, 2-year               NevadaNevadaNevadaNevadaNevadaNevadaNevadaNeva...  \n     Private for-profit, 4-year or above       NevadaNevadaNevadaNevadaNevadaNevadaNevadaNevada  \n     Private for-profit, less-than 2-year      NevadaNevadaNevadaNevadaNevadaNevadaNevadaNevada  \n     Private not-for-profit, 2-year                                                NevadaNevada  \n     Private not-for-profit, 4-year or above                                 NevadaNevadaNevada  \n     Public, 2-year                                                                      Nevada  \n     Public, 4-year or above                               NevadaNevadaNevadaNevadaNevadaNevada  \n2016 Private for-profit, 2-year               NevadaNevadaNevadaNevadaNevadaNevadaNevadaNeva...  \n     Private for-profit, 4-year or above                   NevadaNevadaNevadaNevadaNevadaNevada  \n     Private for-profit, less-than 2-year      NevadaNevadaNevadaNevadaNevadaNevadaNevadaNevada  \n     Private not-for-profit, 2-year                                                NevadaNevada  \n     Private not-for-profit, 4-year or above                           NevadaNevadaNevadaNevada  \n     Public, 2-year                                                                      Nevada  \n     Public, 4-year or above                               NevadaNevadaNevadaNevadaNevadaNevada  ",
      "text/html": "<div>\n<style scoped>\n    .dataframe tbody tr th:only-of-type {\n        vertical-align: middle;\n    }\n\n    .dataframe tbody tr th {\n        vertical-align: top;\n    }\n\n    .dataframe thead th {\n        text-align: right;\n    }\n</style>\n<table border=\"1\" class=\"dataframe\">\n  <thead>\n    <tr style=\"text-align: right;\">\n      <th></th>\n      <th></th>\n      <th>University</th>\n      <th>Completions</th>\n      <th>Geography</th>\n    </tr>\n    <tr>\n      <th>Year</th>\n      <th>Sector</th>\n      <th></th>\n      <th></th>\n      <th></th>\n    </tr>\n  </thead>\n  <tbody>\n    <tr>\n      <th rowspan=\"7\" valign=\"top\">2012</th>\n      <th>Private for-profit, 2-year</th>\n      <td>Career College of Northern NevadaPaul Mitchell...</td>\n      <td>3072</td>\n      <td>NevadaNevadaNevadaNevadaNevadaNevadaNevadaNeva...</td>\n    </tr>\n    <tr>\n      <th>Private for-profit, 4-year or above</th>\n      <td>Sanford-Brown College-Las VegasITT Technical I...</td>\n      <td>632</td>\n      <td>NevadaNevadaNevadaNevada</td>\n    </tr>\n    <tr>\n      <th>Private for-profit, less-than 2-year</th>\n      <td>Academy of Hair Design-Las VegasMilan Institut...</td>\n      <td>1327</td>\n      <td>NevadaNevadaNevadaNevadaNevadaNevadaNevada</td>\n    </tr>\n    <tr>\n      <th>Private not-for-profit, 2-year</th>\n      <td>Everest College-HendersonExpertise Cosmetology...</td>\n      <td>665</td>\n      <td>NevadaNevada</td>\n    </tr>\n    <tr>\n      <th>Private not-for-profit, 4-year or above</th>\n      <td>Roseman University of Health SciencesTouro Uni...</td>\n      <td>1059</td>\n      <td>NevadaNevadaNevada</td>\n    </tr>\n    <tr>\n      <th>Public, 2-year</th>\n      <td>Truckee Meadows Community College</td>\n      <td>1170</td>\n      <td>Nevada</td>\n    </tr>\n    <tr>\n      <th>Public, 4-year or above</th>\n      <td>University of Nevada-RenoCollege of Southern N...</td>\n      <td>12408</td>\n      <td>NevadaNevadaNevadaNevadaNevadaNevada</td>\n    </tr>\n    <tr>\n      <th rowspan=\"7\" valign=\"top\">2013</th>\n      <th>Private for-profit, 2-year</th>\n      <td>Aviation Institute of Maintenance-Las VegasCar...</td>\n      <td>3053</td>\n      <td>NevadaNevadaNevadaNevadaNevadaNevadaNevadaNeva...</td>\n    </tr>\n    <tr>\n      <th>Private for-profit, 4-year or above</th>\n      <td>DeVry University-NevadaITT Technical Institute...</td>\n      <td>775</td>\n      <td>NevadaNevadaNevadaNevadaNevada</td>\n    </tr>\n    <tr>\n      <th>Private for-profit, less-than 2-year</th>\n      <td>Academy of Hair Design-Las VegasMilan Institut...</td>\n      <td>1281</td>\n      <td>NevadaNevadaNevadaNevadaNevadaNevadaNevada</td>\n    </tr>\n    <tr>\n      <th>Private not-for-profit, 2-year</th>\n      <td>Expertise Cosmetology InstituteEverest College...</td>\n      <td>471</td>\n      <td>NevadaNevada</td>\n    </tr>\n    <tr>\n      <th>Private not-for-profit, 4-year or above</th>\n      <td>Roseman University of Health SciencesTouro Uni...</td>\n      <td>1016</td>\n      <td>NevadaNevadaNevada</td>\n    </tr>\n    <tr>\n      <th>Public, 2-year</th>\n      <td>Truckee Meadows Community College</td>\n      <td>1633</td>\n      <td>Nevada</td>\n    </tr>\n    <tr>\n      <th>Public, 4-year or above</th>\n      <td>University of Nevada-RenoUniversity of Nevada-...</td>\n      <td>12817</td>\n      <td>NevadaNevadaNevadaNevadaNevadaNevada</td>\n    </tr>\n    <tr>\n      <th rowspan=\"7\" valign=\"top\">2014</th>\n      <th>Private for-profit, 2-year</th>\n      <td>Nevada Career InstituteEuphoria Institute of B...</td>\n      <td>2957</td>\n      <td>NevadaNevadaNevadaNevadaNevadaNevadaNevadaNeva...</td>\n    </tr>\n    <tr>\n      <th>Private for-profit, 4-year or above</th>\n      <td>Sanford-Brown College-Las VegasThe Art Institu...</td>\n      <td>1506</td>\n      <td>NevadaNevadaNevadaNevadaNevadaNevada</td>\n    </tr>\n    <tr>\n      <th>Private for-profit, less-than 2-year</th>\n      <td>Healthcare Preparatory InstituteMilan Institut...</td>\n      <td>1328</td>\n      <td>NevadaNevadaNevadaNevadaNevadaNevadaNevadaNevada</td>\n    </tr>\n    <tr>\n      <th>Private not-for-profit, 2-year</th>\n      <td>Expertise Cosmetology InstituteEverest College...</td>\n      <td>449</td>\n      <td>NevadaNevada</td>\n    </tr>\n    <tr>\n      <th>Private not-for-profit, 4-year or above</th>\n      <td>Roseman University of Health SciencesSierra Ne...</td>\n      <td>1042</td>\n      <td>NevadaNevadaNevada</td>\n    </tr>\n    <tr>\n      <th>Public, 2-year</th>\n      <td>Truckee Meadows Community College</td>\n      <td>2286</td>\n      <td>Nevada</td>\n    </tr>\n    <tr>\n      <th>Public, 4-year or above</th>\n      <td>College of Southern NevadaWestern Nevada Colle...</td>\n      <td>15162</td>\n      <td>NevadaNevadaNevadaNevadaNevadaNevada</td>\n    </tr>\n    <tr>\n      <th rowspan=\"7\" valign=\"top\">2015</th>\n      <th>Private for-profit, 2-year</th>\n      <td>Pima Medical Institute-Las VegasBrightwood Col...</td>\n      <td>3280</td>\n      <td>NevadaNevadaNevadaNevadaNevadaNevadaNevadaNeva...</td>\n    </tr>\n    <tr>\n      <th>Private for-profit, 4-year or above</th>\n      <td>ITT Technical Institute-Las VegasUniversity of...</td>\n      <td>1306</td>\n      <td>NevadaNevadaNevadaNevadaNevadaNevadaNevadaNevada</td>\n    </tr>\n    <tr>\n      <th>Private for-profit, less-than 2-year</th>\n      <td>Milan Institute-SparksHealthcare Preparatory I...</td>\n      <td>1629</td>\n      <td>NevadaNevadaNevadaNevadaNevadaNevadaNevadaNevada</td>\n    </tr>\n    <tr>\n      <th>Private not-for-profit, 2-year</th>\n      <td>Everest College-HendersonExpertise Cosmetology...</td>\n      <td>425</td>\n      <td>NevadaNevada</td>\n    </tr>\n    <tr>\n      <th>Private not-for-profit, 4-year or above</th>\n      <td>Roseman University of Health SciencesSierra Ne...</td>\n      <td>1228</td>\n      <td>NevadaNevadaNevada</td>\n    </tr>\n    <tr>\n      <th>Public, 2-year</th>\n      <td>Truckee Meadows Community College</td>\n      <td>2355</td>\n      <td>Nevada</td>\n    </tr>\n    <tr>\n      <th>Public, 4-year or above</th>\n      <td>University of Nevada-Las VegasGreat Basin Coll...</td>\n      <td>16056</td>\n      <td>NevadaNevadaNevadaNevadaNevadaNevada</td>\n    </tr>\n    <tr>\n      <th rowspan=\"7\" valign=\"top\">2016</th>\n      <th>Private for-profit, 2-year</th>\n      <td>Pima Medical Institute-Las VegasNorthwest Care...</td>\n      <td>3286</td>\n      <td>NevadaNevadaNevadaNevadaNevadaNevadaNevadaNeva...</td>\n    </tr>\n    <tr>\n      <th>Private for-profit, 4-year or above</th>\n      <td>University of Phoenix-NevadaChamberlain Colleg...</td>\n      <td>748</td>\n      <td>NevadaNevadaNevadaNevadaNevadaNevada</td>\n    </tr>\n    <tr>\n      <th>Private for-profit, less-than 2-year</th>\n      <td>Healthcare Preparatory InstituteMilan Institut...</td>\n      <td>1552</td>\n      <td>NevadaNevadaNevadaNevadaNevadaNevadaNevadaNevada</td>\n    </tr>\n    <tr>\n      <th>Private not-for-profit, 2-year</th>\n      <td>Everest College-HendersonExpertise Cosmetology...</td>\n      <td>322</td>\n      <td>NevadaNevada</td>\n    </tr>\n    <tr>\n      <th>Private not-for-profit, 4-year or above</th>\n      <td>Sierra Nevada CollegeWongu University of Orien...</td>\n      <td>1208</td>\n      <td>NevadaNevadaNevadaNevada</td>\n    </tr>\n    <tr>\n      <th>Public, 2-year</th>\n      <td>Truckee Meadows Community College</td>\n      <td>2431</td>\n      <td>Nevada</td>\n    </tr>\n    <tr>\n      <th>Public, 4-year or above</th>\n      <td>Western Nevada CollegeGreat Basin CollegeNevad...</td>\n      <td>16677</td>\n      <td>NevadaNevadaNevadaNevadaNevadaNevada</td>\n    </tr>\n  </tbody>\n</table>\n</div>"
     },
     "execution_count": 8,
     "metadata": {},
     "output_type": "execute_result"
    }
   ],
   "source": [
    "df.groupby(['Year','Sector']).sum() #Unutrasnji i spoljasnji index"
   ],
   "metadata": {
    "collapsed": false,
    "ExecuteTime": {
     "end_time": "2025-03-04T08:54:20.922834200Z",
     "start_time": "2025-03-04T08:54:20.790120900Z"
    }
   },
   "id": "daf52cc77d655c64",
   "execution_count": 8
  },
  {
   "cell_type": "code",
   "outputs": [
    {
     "data": {
      "text/plain": "Year                      2012         2013         2014         2015  \\\nCompletions count    38.000000    40.000000    42.000000    44.000000   \n            mean    535.078947   526.150000   588.809524   597.250000   \n            std    1036.433239  1040.474782  1150.355857  1183.371791   \n            min      13.000000     0.000000     0.000000     0.000000   \n            25%     114.250000    98.500000   104.500000    87.750000   \n            50%     229.500000   189.000000   203.500000   191.000000   \n            75%     420.500000   413.000000   371.750000   405.750000   \n            max    5388.000000  5278.000000  5093.000000  5335.000000   \n\nYear                      2016  \nCompletions count    43.000000  \n            mean    609.860465  \n            std    1235.952796  \n            min       0.000000  \n            25%      90.000000  \n            50%     208.000000  \n            75%     414.000000  \n            max    5367.000000  ",
      "text/html": "<div>\n<style scoped>\n    .dataframe tbody tr th:only-of-type {\n        vertical-align: middle;\n    }\n\n    .dataframe tbody tr th {\n        vertical-align: top;\n    }\n\n    .dataframe thead th {\n        text-align: right;\n    }\n</style>\n<table border=\"1\" class=\"dataframe\">\n  <thead>\n    <tr style=\"text-align: right;\">\n      <th></th>\n      <th>Year</th>\n      <th>2012</th>\n      <th>2013</th>\n      <th>2014</th>\n      <th>2015</th>\n      <th>2016</th>\n    </tr>\n  </thead>\n  <tbody>\n    <tr>\n      <th rowspan=\"8\" valign=\"top\">Completions</th>\n      <th>count</th>\n      <td>38.000000</td>\n      <td>40.000000</td>\n      <td>42.000000</td>\n      <td>44.000000</td>\n      <td>43.000000</td>\n    </tr>\n    <tr>\n      <th>mean</th>\n      <td>535.078947</td>\n      <td>526.150000</td>\n      <td>588.809524</td>\n      <td>597.250000</td>\n      <td>609.860465</td>\n    </tr>\n    <tr>\n      <th>std</th>\n      <td>1036.433239</td>\n      <td>1040.474782</td>\n      <td>1150.355857</td>\n      <td>1183.371791</td>\n      <td>1235.952796</td>\n    </tr>\n    <tr>\n      <th>min</th>\n      <td>13.000000</td>\n      <td>0.000000</td>\n      <td>0.000000</td>\n      <td>0.000000</td>\n      <td>0.000000</td>\n    </tr>\n    <tr>\n      <th>25%</th>\n      <td>114.250000</td>\n      <td>98.500000</td>\n      <td>104.500000</td>\n      <td>87.750000</td>\n      <td>90.000000</td>\n    </tr>\n    <tr>\n      <th>50%</th>\n      <td>229.500000</td>\n      <td>189.000000</td>\n      <td>203.500000</td>\n      <td>191.000000</td>\n      <td>208.000000</td>\n    </tr>\n    <tr>\n      <th>75%</th>\n      <td>420.500000</td>\n      <td>413.000000</td>\n      <td>371.750000</td>\n      <td>405.750000</td>\n      <td>414.000000</td>\n    </tr>\n    <tr>\n      <th>max</th>\n      <td>5388.000000</td>\n      <td>5278.000000</td>\n      <td>5093.000000</td>\n      <td>5335.000000</td>\n      <td>5367.000000</td>\n    </tr>\n  </tbody>\n</table>\n</div>"
     },
     "execution_count": 10,
     "metadata": {},
     "output_type": "execute_result"
    }
   ],
   "source": [
    "df.groupby('Year').describe().transpose() #Uradi za svaku god prebrojavanje, mean, standardnu devijaciju, minimum, razne metrike"
   ],
   "metadata": {
    "collapsed": false,
    "ExecuteTime": {
     "end_time": "2025-03-04T08:56:24.266841Z",
     "start_time": "2025-03-04T08:56:24.179386200Z"
    }
   },
   "id": "73283f037c8eba55",
   "execution_count": 10
  },
  {
   "cell_type": "code",
   "outputs": [
    {
     "data": {
      "text/plain": "  k1  col1 col2\n0  A   100   NY\n1  A   200   CA\n2  B   300   WA\n3  B   300   WA\n4  C   400   AK\n5  C   500   NV",
      "text/html": "<div>\n<style scoped>\n    .dataframe tbody tr th:only-of-type {\n        vertical-align: middle;\n    }\n\n    .dataframe tbody tr th {\n        vertical-align: top;\n    }\n\n    .dataframe thead th {\n        text-align: right;\n    }\n</style>\n<table border=\"1\" class=\"dataframe\">\n  <thead>\n    <tr style=\"text-align: right;\">\n      <th></th>\n      <th>k1</th>\n      <th>col1</th>\n      <th>col2</th>\n    </tr>\n  </thead>\n  <tbody>\n    <tr>\n      <th>0</th>\n      <td>A</td>\n      <td>100</td>\n      <td>NY</td>\n    </tr>\n    <tr>\n      <th>1</th>\n      <td>A</td>\n      <td>200</td>\n      <td>CA</td>\n    </tr>\n    <tr>\n      <th>2</th>\n      <td>B</td>\n      <td>300</td>\n      <td>WA</td>\n    </tr>\n    <tr>\n      <th>3</th>\n      <td>B</td>\n      <td>300</td>\n      <td>WA</td>\n    </tr>\n    <tr>\n      <th>4</th>\n      <td>C</td>\n      <td>400</td>\n      <td>AK</td>\n    </tr>\n    <tr>\n      <th>5</th>\n      <td>C</td>\n      <td>500</td>\n      <td>NV</td>\n    </tr>\n  </tbody>\n</table>\n</div>"
     },
     "execution_count": 11,
     "metadata": {},
     "output_type": "execute_result"
    }
   ],
   "source": [
    "df_one = pd.DataFrame({'k1':['A','A','B','B','C','C'],\n",
    "                      'col1':[100,200,300,300,400,500],\n",
    "                      'col2':['NY','CA','WA','WA','AK','NV']})\n",
    "df_one"
   ],
   "metadata": {
    "collapsed": false,
    "ExecuteTime": {
     "end_time": "2025-03-04T08:57:51.662920400Z",
     "start_time": "2025-03-04T08:57:51.574131Z"
    }
   },
   "id": "a2cf3d7ec9cf458a",
   "execution_count": 11
  },
  {
   "cell_type": "code",
   "outputs": [
    {
     "data": {
      "text/plain": "array(['A', 'B', 'C'], dtype=object)"
     },
     "execution_count": 13,
     "metadata": {},
     "output_type": "execute_result"
    }
   ],
   "source": [
    "df_one['k1'].unique() #Vraca sve unikatne vrednosti"
   ],
   "metadata": {
    "collapsed": false,
    "ExecuteTime": {
     "end_time": "2025-03-04T08:58:42.900625800Z",
     "start_time": "2025-03-04T08:58:42.813417800Z"
    }
   },
   "id": "5eb8dc9902bbc2d3",
   "execution_count": 13
  },
  {
   "cell_type": "code",
   "outputs": [
    {
     "data": {
      "text/plain": "3"
     },
     "execution_count": 14,
     "metadata": {},
     "output_type": "execute_result"
    }
   ],
   "source": [
    "df_one['k1'].nunique()  #Vraca broj tj. zbir unikatnih vrednosti"
   ],
   "metadata": {
    "collapsed": false,
    "ExecuteTime": {
     "end_time": "2025-03-04T08:58:52.509603100Z",
     "start_time": "2025-03-04T08:58:52.404669600Z"
    }
   },
   "id": "477ee271465db0b7",
   "execution_count": 14
  },
  {
   "cell_type": "code",
   "outputs": [
    {
     "data": {
      "text/plain": "col2\nWA    2\nNY    1\nCA    1\nAK    1\nNV    1\nName: count, dtype: int64"
     },
     "execution_count": 15,
     "metadata": {},
     "output_type": "execute_result"
    }
   ],
   "source": [
    "df_one['col2'].value_counts() #Vraca za svaku koliko se puta pojavljuje"
   ],
   "metadata": {
    "collapsed": false,
    "ExecuteTime": {
     "end_time": "2025-03-04T08:59:36.284029100Z",
     "start_time": "2025-03-04T08:59:36.153350Z"
    }
   },
   "id": "af5c602668e0b33d",
   "execution_count": 15
  },
  {
   "cell_type": "code",
   "outputs": [
    {
     "data": {
      "text/plain": "  k1  col1 col2\n0  A   100   NY\n1  A   200   CA\n2  B   300   WA\n4  C   400   AK\n5  C   500   NV",
      "text/html": "<div>\n<style scoped>\n    .dataframe tbody tr th:only-of-type {\n        vertical-align: middle;\n    }\n\n    .dataframe tbody tr th {\n        vertical-align: top;\n    }\n\n    .dataframe thead th {\n        text-align: right;\n    }\n</style>\n<table border=\"1\" class=\"dataframe\">\n  <thead>\n    <tr style=\"text-align: right;\">\n      <th></th>\n      <th>k1</th>\n      <th>col1</th>\n      <th>col2</th>\n    </tr>\n  </thead>\n  <tbody>\n    <tr>\n      <th>0</th>\n      <td>A</td>\n      <td>100</td>\n      <td>NY</td>\n    </tr>\n    <tr>\n      <th>1</th>\n      <td>A</td>\n      <td>200</td>\n      <td>CA</td>\n    </tr>\n    <tr>\n      <th>2</th>\n      <td>B</td>\n      <td>300</td>\n      <td>WA</td>\n    </tr>\n    <tr>\n      <th>4</th>\n      <td>C</td>\n      <td>400</td>\n      <td>AK</td>\n    </tr>\n    <tr>\n      <th>5</th>\n      <td>C</td>\n      <td>500</td>\n      <td>NV</td>\n    </tr>\n  </tbody>\n</table>\n</div>"
     },
     "execution_count": 16,
     "metadata": {},
     "output_type": "execute_result"
    }
   ],
   "source": [
    "df_one.drop_duplicates() #Izbacuje samo identicne redove #ovo moze biti jako korisno za projekat"
   ],
   "metadata": {
    "collapsed": false,
    "ExecuteTime": {
     "end_time": "2025-03-04T09:00:07.314436800Z",
     "start_time": "2025-03-04T09:00:07.220476200Z"
    }
   },
   "id": "10bbbcbb967c2193",
   "execution_count": 16
  },
  {
   "cell_type": "code",
   "outputs": [
    {
     "data": {
      "text/plain": "  k1  col1 col2   NEW\n0  A   100   NY  1000\n1  A   200   CA  2000\n2  B   300   WA  3000\n3  B   300   WA  3000\n4  C   400   AK  4000\n5  C   500   NV  5000",
      "text/html": "<div>\n<style scoped>\n    .dataframe tbody tr th:only-of-type {\n        vertical-align: middle;\n    }\n\n    .dataframe tbody tr th {\n        vertical-align: top;\n    }\n\n    .dataframe thead th {\n        text-align: right;\n    }\n</style>\n<table border=\"1\" class=\"dataframe\">\n  <thead>\n    <tr style=\"text-align: right;\">\n      <th></th>\n      <th>k1</th>\n      <th>col1</th>\n      <th>col2</th>\n      <th>NEW</th>\n    </tr>\n  </thead>\n  <tbody>\n    <tr>\n      <th>0</th>\n      <td>A</td>\n      <td>100</td>\n      <td>NY</td>\n      <td>1000</td>\n    </tr>\n    <tr>\n      <th>1</th>\n      <td>A</td>\n      <td>200</td>\n      <td>CA</td>\n      <td>2000</td>\n    </tr>\n    <tr>\n      <th>2</th>\n      <td>B</td>\n      <td>300</td>\n      <td>WA</td>\n      <td>3000</td>\n    </tr>\n    <tr>\n      <th>3</th>\n      <td>B</td>\n      <td>300</td>\n      <td>WA</td>\n      <td>3000</td>\n    </tr>\n    <tr>\n      <th>4</th>\n      <td>C</td>\n      <td>400</td>\n      <td>AK</td>\n      <td>4000</td>\n    </tr>\n    <tr>\n      <th>5</th>\n      <td>C</td>\n      <td>500</td>\n      <td>NV</td>\n      <td>5000</td>\n    </tr>\n  </tbody>\n</table>\n</div>"
     },
     "execution_count": 18,
     "metadata": {},
     "output_type": "execute_result"
    }
   ],
   "source": [
    "df_one['NEW'] = df_one['col1'] * 10\n",
    "df_one #Ovo se radi na originalu"
   ],
   "metadata": {
    "collapsed": false,
    "ExecuteTime": {
     "end_time": "2025-03-04T09:03:35.900693Z",
     "start_time": "2025-03-04T09:03:35.838851300Z"
    }
   },
   "id": "420a21f132936b19",
   "execution_count": 18
  },
  {
   "cell_type": "code",
   "outputs": [
    {
     "data": {
      "text/plain": "'N'"
     },
     "execution_count": 19,
     "metadata": {},
     "output_type": "execute_result"
    }
   ],
   "source": [
    "def grab_first_letter(state):\n",
    "    return state[0]\n",
    "grab_first_letter('NY')"
   ],
   "metadata": {
    "collapsed": false,
    "ExecuteTime": {
     "end_time": "2025-03-04T09:05:37.337668200Z",
     "start_time": "2025-03-04T09:05:37.075854900Z"
    }
   },
   "id": "99a16101e8e1bae3",
   "execution_count": 19
  },
  {
   "cell_type": "code",
   "outputs": [
    {
     "data": {
      "text/plain": "0    N\n1    C\n2    W\n3    W\n4    A\n5    N\nName: col2, dtype: object"
     },
     "execution_count": 21,
     "metadata": {},
     "output_type": "execute_result"
    }
   ],
   "source": [
    "df_one['col2'].apply(grab_first_letter)"
   ],
   "metadata": {
    "collapsed": false,
    "ExecuteTime": {
     "end_time": "2025-03-04T09:06:52.075692500Z",
     "start_time": "2025-03-04T09:06:52.041994800Z"
    }
   },
   "id": "9d35bc2f84c8fc9c",
   "execution_count": 21
  },
  {
   "cell_type": "code",
   "outputs": [],
   "source": [
    "df_one['first letter_col2'] = df_one['col2'].apply(grab_first_letter)"
   ],
   "metadata": {
    "collapsed": false,
    "ExecuteTime": {
     "end_time": "2025-03-04T09:08:09.718195200Z",
     "start_time": "2025-03-04T09:08:09.672900200Z"
    }
   },
   "id": "d67c53c48046bcd9",
   "execution_count": 24
  },
  {
   "cell_type": "code",
   "outputs": [
    {
     "data": {
      "text/plain": "  k1  col1 col2   NEW first letter first letter_col2\n0  A   100   NY  1000            N                 N\n1  A   200   CA  2000            C                 C\n2  B   300   WA  3000            W                 W\n3  B   300   WA  3000            W                 W\n4  C   400   AK  4000            A                 A\n5  C   500   NV  5000            N                 N",
      "text/html": "<div>\n<style scoped>\n    .dataframe tbody tr th:only-of-type {\n        vertical-align: middle;\n    }\n\n    .dataframe tbody tr th {\n        vertical-align: top;\n    }\n\n    .dataframe thead th {\n        text-align: right;\n    }\n</style>\n<table border=\"1\" class=\"dataframe\">\n  <thead>\n    <tr style=\"text-align: right;\">\n      <th></th>\n      <th>k1</th>\n      <th>col1</th>\n      <th>col2</th>\n      <th>NEW</th>\n      <th>first letter</th>\n      <th>first letter_col2</th>\n    </tr>\n  </thead>\n  <tbody>\n    <tr>\n      <th>0</th>\n      <td>A</td>\n      <td>100</td>\n      <td>NY</td>\n      <td>1000</td>\n      <td>N</td>\n      <td>N</td>\n    </tr>\n    <tr>\n      <th>1</th>\n      <td>A</td>\n      <td>200</td>\n      <td>CA</td>\n      <td>2000</td>\n      <td>C</td>\n      <td>C</td>\n    </tr>\n    <tr>\n      <th>2</th>\n      <td>B</td>\n      <td>300</td>\n      <td>WA</td>\n      <td>3000</td>\n      <td>W</td>\n      <td>W</td>\n    </tr>\n    <tr>\n      <th>3</th>\n      <td>B</td>\n      <td>300</td>\n      <td>WA</td>\n      <td>3000</td>\n      <td>W</td>\n      <td>W</td>\n    </tr>\n    <tr>\n      <th>4</th>\n      <td>C</td>\n      <td>400</td>\n      <td>AK</td>\n      <td>4000</td>\n      <td>A</td>\n      <td>A</td>\n    </tr>\n    <tr>\n      <th>5</th>\n      <td>C</td>\n      <td>500</td>\n      <td>NV</td>\n      <td>5000</td>\n      <td>N</td>\n      <td>N</td>\n    </tr>\n  </tbody>\n</table>\n</div>"
     },
     "execution_count": 25,
     "metadata": {},
     "output_type": "execute_result"
    }
   ],
   "source": [
    "df_one"
   ],
   "metadata": {
    "collapsed": false,
    "ExecuteTime": {
     "end_time": "2025-03-04T09:08:10.403179600Z",
     "start_time": "2025-03-04T09:08:10.382579600Z"
    }
   },
   "id": "825433a5c3ebe708",
   "execution_count": 25
  },
  {
   "cell_type": "code",
   "outputs": [],
   "source": [
    "def complex_letter(state):\n",
    "    \n",
    "    if state[0] == 'W':\n",
    "        return \"Washington\"\n",
    "    else:\n",
    "        return \"Error\""
   ],
   "metadata": {
    "collapsed": false,
    "ExecuteTime": {
     "end_time": "2025-03-04T09:08:57.816457700Z",
     "start_time": "2025-03-04T09:08:57.761187700Z"
    }
   },
   "id": "1cf747c8d229b480",
   "execution_count": 26
  },
  {
   "cell_type": "code",
   "outputs": [
    {
     "data": {
      "text/plain": "0         Error\n1         Error\n2    Washington\n3    Washington\n4         Error\n5         Error\nName: col2, dtype: object"
     },
     "execution_count": 27,
     "metadata": {},
     "output_type": "execute_result"
    }
   ],
   "source": [
    "df_one['col2'].apply(complex_letter)"
   ],
   "metadata": {
    "collapsed": false,
    "ExecuteTime": {
     "end_time": "2025-03-04T09:09:05.946279300Z",
     "start_time": "2025-03-04T09:09:05.900331100Z"
    }
   },
   "id": "b00396ae4e8d7235",
   "execution_count": 27
  },
  {
   "cell_type": "code",
   "outputs": [
    {
     "data": {
      "text/plain": "0    A\n1    A\n2    B\n3    B\n4    C\n5    C\nName: k1, dtype: object"
     },
     "execution_count": 28,
     "metadata": {},
     "output_type": "execute_result"
    }
   ],
   "source": [
    "df_one['k1']"
   ],
   "metadata": {
    "collapsed": false,
    "ExecuteTime": {
     "end_time": "2025-03-04T09:10:17.969864700Z",
     "start_time": "2025-03-04T09:10:17.904958200Z"
    }
   },
   "id": "a314b7afbc054fd2",
   "execution_count": 28
  },
  {
   "cell_type": "code",
   "outputs": [
    {
     "data": {
      "text/plain": "  k1  col1 col2   NEW first letter first letter_col2  num\n0  A   100   NY  1000            N                 N    1\n1  A   200   CA  2000            C                 C    1\n2  B   300   WA  3000            W                 W    2\n3  B   300   WA  3000            W                 W    2\n4  C   400   AK  4000            A                 A    3\n5  C   500   NV  5000            N                 N    3",
      "text/html": "<div>\n<style scoped>\n    .dataframe tbody tr th:only-of-type {\n        vertical-align: middle;\n    }\n\n    .dataframe tbody tr th {\n        vertical-align: top;\n    }\n\n    .dataframe thead th {\n        text-align: right;\n    }\n</style>\n<table border=\"1\" class=\"dataframe\">\n  <thead>\n    <tr style=\"text-align: right;\">\n      <th></th>\n      <th>k1</th>\n      <th>col1</th>\n      <th>col2</th>\n      <th>NEW</th>\n      <th>first letter</th>\n      <th>first letter_col2</th>\n      <th>num</th>\n    </tr>\n  </thead>\n  <tbody>\n    <tr>\n      <th>0</th>\n      <td>A</td>\n      <td>100</td>\n      <td>NY</td>\n      <td>1000</td>\n      <td>N</td>\n      <td>N</td>\n      <td>1</td>\n    </tr>\n    <tr>\n      <th>1</th>\n      <td>A</td>\n      <td>200</td>\n      <td>CA</td>\n      <td>2000</td>\n      <td>C</td>\n      <td>C</td>\n      <td>1</td>\n    </tr>\n    <tr>\n      <th>2</th>\n      <td>B</td>\n      <td>300</td>\n      <td>WA</td>\n      <td>3000</td>\n      <td>W</td>\n      <td>W</td>\n      <td>2</td>\n    </tr>\n    <tr>\n      <th>3</th>\n      <td>B</td>\n      <td>300</td>\n      <td>WA</td>\n      <td>3000</td>\n      <td>W</td>\n      <td>W</td>\n      <td>2</td>\n    </tr>\n    <tr>\n      <th>4</th>\n      <td>C</td>\n      <td>400</td>\n      <td>AK</td>\n      <td>4000</td>\n      <td>A</td>\n      <td>A</td>\n      <td>3</td>\n    </tr>\n    <tr>\n      <th>5</th>\n      <td>C</td>\n      <td>500</td>\n      <td>NV</td>\n      <td>5000</td>\n      <td>N</td>\n      <td>N</td>\n      <td>3</td>\n    </tr>\n  </tbody>\n</table>\n</div>"
     },
     "execution_count": 29,
     "metadata": {},
     "output_type": "execute_result"
    }
   ],
   "source": [
    "my_map = {'A':1, 'B':2, 'C':3}\n",
    "df_one['num'] = df_one['k1'].map(my_map)\n",
    "df_one"
   ],
   "metadata": {
    "collapsed": false,
    "ExecuteTime": {
     "end_time": "2025-03-04T09:11:23.024677400Z",
     "start_time": "2025-03-04T09:11:22.981552900Z"
    }
   },
   "id": "16a5e644097a48c7",
   "execution_count": 29
  },
  {
   "cell_type": "code",
   "outputs": [],
   "source": [
    "features = pd.DataFrame({'A':[100,200,300,400,500],\n",
    "                        'B':[12,13,14,15,16]})\n",
    "predictions = pd.DataFrame({'pred':[0,1,1,0,1]})\n"
   ],
   "metadata": {
    "collapsed": false,
    "ExecuteTime": {
     "end_time": "2025-03-04T09:17:10.309534800Z",
     "start_time": "2025-03-04T09:17:10.259699Z"
    }
   },
   "id": "2d60c958c54397f1",
   "execution_count": 30
  },
  {
   "cell_type": "code",
   "outputs": [
    {
     "data": {
      "text/plain": "     A   B\n0  100  12\n1  200  13\n2  300  14\n3  400  15\n4  500  16",
      "text/html": "<div>\n<style scoped>\n    .dataframe tbody tr th:only-of-type {\n        vertical-align: middle;\n    }\n\n    .dataframe tbody tr th {\n        vertical-align: top;\n    }\n\n    .dataframe thead th {\n        text-align: right;\n    }\n</style>\n<table border=\"1\" class=\"dataframe\">\n  <thead>\n    <tr style=\"text-align: right;\">\n      <th></th>\n      <th>A</th>\n      <th>B</th>\n    </tr>\n  </thead>\n  <tbody>\n    <tr>\n      <th>0</th>\n      <td>100</td>\n      <td>12</td>\n    </tr>\n    <tr>\n      <th>1</th>\n      <td>200</td>\n      <td>13</td>\n    </tr>\n    <tr>\n      <th>2</th>\n      <td>300</td>\n      <td>14</td>\n    </tr>\n    <tr>\n      <th>3</th>\n      <td>400</td>\n      <td>15</td>\n    </tr>\n    <tr>\n      <th>4</th>\n      <td>500</td>\n      <td>16</td>\n    </tr>\n  </tbody>\n</table>\n</div>"
     },
     "execution_count": 31,
     "metadata": {},
     "output_type": "execute_result"
    }
   ],
   "source": [
    "features"
   ],
   "metadata": {
    "collapsed": false,
    "ExecuteTime": {
     "end_time": "2025-03-04T09:17:15.641541Z",
     "start_time": "2025-03-04T09:17:15.592013100Z"
    }
   },
   "id": "ff4966f8047f8e5c",
   "execution_count": 31
  },
  {
   "cell_type": "code",
   "outputs": [
    {
     "data": {
      "text/plain": "   pred\n0     0\n1     1\n2     1\n3     0\n4     1",
      "text/html": "<div>\n<style scoped>\n    .dataframe tbody tr th:only-of-type {\n        vertical-align: middle;\n    }\n\n    .dataframe tbody tr th {\n        vertical-align: top;\n    }\n\n    .dataframe thead th {\n        text-align: right;\n    }\n</style>\n<table border=\"1\" class=\"dataframe\">\n  <thead>\n    <tr style=\"text-align: right;\">\n      <th></th>\n      <th>pred</th>\n    </tr>\n  </thead>\n  <tbody>\n    <tr>\n      <th>0</th>\n      <td>0</td>\n    </tr>\n    <tr>\n      <th>1</th>\n      <td>1</td>\n    </tr>\n    <tr>\n      <th>2</th>\n      <td>1</td>\n    </tr>\n    <tr>\n      <th>3</th>\n      <td>0</td>\n    </tr>\n    <tr>\n      <th>4</th>\n      <td>1</td>\n    </tr>\n  </tbody>\n</table>\n</div>"
     },
     "execution_count": 32,
     "metadata": {},
     "output_type": "execute_result"
    }
   ],
   "source": [
    "predictions"
   ],
   "metadata": {
    "collapsed": false,
    "ExecuteTime": {
     "end_time": "2025-03-04T09:17:18.477964100Z",
     "start_time": "2025-03-04T09:17:18.440199700Z"
    }
   },
   "id": "e632c08b3f0f2a58",
   "execution_count": 32
  },
  {
   "cell_type": "code",
   "outputs": [
    {
     "data": {
      "text/plain": "     A   B  pred\n0  100  12     0\n1  200  13     1\n2  300  14     1\n3  400  15     0\n4  500  16     1",
      "text/html": "<div>\n<style scoped>\n    .dataframe tbody tr th:only-of-type {\n        vertical-align: middle;\n    }\n\n    .dataframe tbody tr th {\n        vertical-align: top;\n    }\n\n    .dataframe thead th {\n        text-align: right;\n    }\n</style>\n<table border=\"1\" class=\"dataframe\">\n  <thead>\n    <tr style=\"text-align: right;\">\n      <th></th>\n      <th>A</th>\n      <th>B</th>\n      <th>pred</th>\n    </tr>\n  </thead>\n  <tbody>\n    <tr>\n      <th>0</th>\n      <td>100</td>\n      <td>12</td>\n      <td>0</td>\n    </tr>\n    <tr>\n      <th>1</th>\n      <td>200</td>\n      <td>13</td>\n      <td>1</td>\n    </tr>\n    <tr>\n      <th>2</th>\n      <td>300</td>\n      <td>14</td>\n      <td>1</td>\n    </tr>\n    <tr>\n      <th>3</th>\n      <td>400</td>\n      <td>15</td>\n      <td>0</td>\n    </tr>\n    <tr>\n      <th>4</th>\n      <td>500</td>\n      <td>16</td>\n      <td>1</td>\n    </tr>\n  </tbody>\n</table>\n</div>"
     },
     "execution_count": 34,
     "metadata": {},
     "output_type": "execute_result"
    }
   ],
   "source": [
    "pd.concat([features,predictions], axis=1)  #Default je po redovima, moze se kreirati i novi dataframe "
   ],
   "metadata": {
    "collapsed": false,
    "ExecuteTime": {
     "end_time": "2025-03-04T09:17:58.640511Z",
     "start_time": "2025-03-04T09:17:58.613540900Z"
    }
   },
   "id": "75a2187e9f8c90c1",
   "execution_count": 34
  },
  {
   "cell_type": "code",
   "outputs": [
    {
     "data": {
      "text/plain": "       A      B      C\n0   True  False  False\n1   True  False  False\n2  False   True  False\n3  False   True  False\n4  False  False   True\n5  False  False   True",
      "text/html": "<div>\n<style scoped>\n    .dataframe tbody tr th:only-of-type {\n        vertical-align: middle;\n    }\n\n    .dataframe tbody tr th {\n        vertical-align: top;\n    }\n\n    .dataframe thead th {\n        text-align: right;\n    }\n</style>\n<table border=\"1\" class=\"dataframe\">\n  <thead>\n    <tr style=\"text-align: right;\">\n      <th></th>\n      <th>A</th>\n      <th>B</th>\n      <th>C</th>\n    </tr>\n  </thead>\n  <tbody>\n    <tr>\n      <th>0</th>\n      <td>True</td>\n      <td>False</td>\n      <td>False</td>\n    </tr>\n    <tr>\n      <th>1</th>\n      <td>True</td>\n      <td>False</td>\n      <td>False</td>\n    </tr>\n    <tr>\n      <th>2</th>\n      <td>False</td>\n      <td>True</td>\n      <td>False</td>\n    </tr>\n    <tr>\n      <th>3</th>\n      <td>False</td>\n      <td>True</td>\n      <td>False</td>\n    </tr>\n    <tr>\n      <th>4</th>\n      <td>False</td>\n      <td>False</td>\n      <td>True</td>\n    </tr>\n    <tr>\n      <th>5</th>\n      <td>False</td>\n      <td>False</td>\n      <td>True</td>\n    </tr>\n  </tbody>\n</table>\n</div>"
     },
     "execution_count": 35,
     "metadata": {},
     "output_type": "execute_result"
    }
   ],
   "source": [
    "pd.get_dummies(df_one['k1'])"
   ],
   "metadata": {
    "collapsed": false,
    "ExecuteTime": {
     "end_time": "2025-03-04T09:18:43.301360600Z",
     "start_time": "2025-03-04T09:18:43.247153400Z"
    }
   },
   "id": "7178e37d0f5dc213",
   "execution_count": 35
  },
  {
   "cell_type": "code",
   "outputs": [],
   "source": [
    "niz = [[1,2,3], [3,4,5], [6,7,8]]\n",
    "niz1 = np.array(niz)"
   ],
   "metadata": {
    "collapsed": false,
    "ExecuteTime": {
     "end_time": "2025-03-04T10:29:52.709070600Z",
     "start_time": "2025-03-04T10:29:52.682222700Z"
    }
   },
   "id": "c076984fa6393f78",
   "execution_count": 13
  },
  {
   "cell_type": "code",
   "outputs": [],
   "source": [
    "df = pd.DataFrame(niz1)\n",
    "df.to_csv('test.csv', index=False) #upisivanje u CSV fajl, tj. cuvanjef"
   ],
   "metadata": {
    "collapsed": false,
    "ExecuteTime": {
     "end_time": "2025-03-04T10:32:48.877156900Z",
     "start_time": "2025-03-04T10:32:48.858331600Z"
    }
   },
   "id": "6ae802355d8607b5",
   "execution_count": 17
  },
  {
   "cell_type": "code",
   "outputs": [],
   "source": [
    "tables = pd.read_html('https://fdic.gov/bank-failures/failed-bank-list')"
   ],
   "metadata": {
    "collapsed": false,
    "ExecuteTime": {
     "end_time": "2025-03-04T10:51:59.650639700Z",
     "start_time": "2025-03-04T10:51:58.185816300Z"
    }
   },
   "id": "58013287e038ba6f",
   "execution_count": 19
  },
  {
   "cell_type": "code",
   "outputs": [
    {
     "data": {
      "text/plain": "list"
     },
     "execution_count": 20,
     "metadata": {},
     "output_type": "execute_result"
    }
   ],
   "source": [
    "type(tables)"
   ],
   "metadata": {
    "collapsed": false,
    "ExecuteTime": {
     "end_time": "2025-03-04T10:55:13.873212100Z",
     "start_time": "2025-03-04T10:55:13.806979700Z"
    }
   },
   "id": "129bba0b8dea9436",
   "execution_count": 20
  },
  {
   "cell_type": "code",
   "outputs": [
    {
     "data": {
      "text/plain": "                               Bank Name               City         State  \\\n0                   Pulaski Savings Bank            Chicago      Illinois   \n1     The First National Bank of Lindsay            Lindsay      Oklahoma   \n2  Republic First Bank dba Republic Bank       Philadelphia  Pennsylvania   \n3                          Citizens Bank           Sac City          Iowa   \n4               Heartland Tri-State Bank            Elkhart        Kansas   \n5                    First Republic Bank      San Francisco    California   \n6                         Signature Bank           New York      New York   \n7                    Silicon Valley Bank        Santa Clara    California   \n8                      Almena State Bank             Almena        Kansas   \n9             First City Bank of Florida  Fort Walton Beach       Florida   \n\n    Cert                 Aquiring Institution      Closing Date  \\\n0  28611                      Millennium Bank  January 17, 2025   \n1   4134   First Bank & Trust Co., Duncan, OK  October 18, 2024   \n2  27332    Fulton Bank, National Association    April 26, 2024   \n3   8758            Iowa Trust & Savings Bank  November 3, 2023   \n4  25851               Dream First Bank, N.A.     July 28, 2023   \n5  59017            JPMorgan Chase Bank, N.A.       May 1, 2023   \n6  57053                  Flagstar Bank, N.A.    March 12, 2023   \n7  24735  First Citizens Bank & Trust Company    March 10, 2023   \n8  15426                          Equity Bank  October 23, 2020   \n9  16748            United Fidelity Bank, fsb  October 16, 2020   \n\n   Fund  Sort ascending  \n0                 10548  \n1                 10547  \n2                 10546  \n3                 10545  \n4                 10544  \n5                 10543  \n6                 10540  \n7                 10539  \n8                 10538  \n9                 10537  ",
      "text/html": "<div>\n<style scoped>\n    .dataframe tbody tr th:only-of-type {\n        vertical-align: middle;\n    }\n\n    .dataframe tbody tr th {\n        vertical-align: top;\n    }\n\n    .dataframe thead th {\n        text-align: right;\n    }\n</style>\n<table border=\"1\" class=\"dataframe\">\n  <thead>\n    <tr style=\"text-align: right;\">\n      <th></th>\n      <th>Bank Name</th>\n      <th>City</th>\n      <th>State</th>\n      <th>Cert</th>\n      <th>Aquiring Institution</th>\n      <th>Closing Date</th>\n      <th>Fund  Sort ascending</th>\n    </tr>\n  </thead>\n  <tbody>\n    <tr>\n      <th>0</th>\n      <td>Pulaski Savings Bank</td>\n      <td>Chicago</td>\n      <td>Illinois</td>\n      <td>28611</td>\n      <td>Millennium Bank</td>\n      <td>January 17, 2025</td>\n      <td>10548</td>\n    </tr>\n    <tr>\n      <th>1</th>\n      <td>The First National Bank of Lindsay</td>\n      <td>Lindsay</td>\n      <td>Oklahoma</td>\n      <td>4134</td>\n      <td>First Bank &amp; Trust Co., Duncan, OK</td>\n      <td>October 18, 2024</td>\n      <td>10547</td>\n    </tr>\n    <tr>\n      <th>2</th>\n      <td>Republic First Bank dba Republic Bank</td>\n      <td>Philadelphia</td>\n      <td>Pennsylvania</td>\n      <td>27332</td>\n      <td>Fulton Bank, National Association</td>\n      <td>April 26, 2024</td>\n      <td>10546</td>\n    </tr>\n    <tr>\n      <th>3</th>\n      <td>Citizens Bank</td>\n      <td>Sac City</td>\n      <td>Iowa</td>\n      <td>8758</td>\n      <td>Iowa Trust &amp; Savings Bank</td>\n      <td>November 3, 2023</td>\n      <td>10545</td>\n    </tr>\n    <tr>\n      <th>4</th>\n      <td>Heartland Tri-State Bank</td>\n      <td>Elkhart</td>\n      <td>Kansas</td>\n      <td>25851</td>\n      <td>Dream First Bank, N.A.</td>\n      <td>July 28, 2023</td>\n      <td>10544</td>\n    </tr>\n    <tr>\n      <th>5</th>\n      <td>First Republic Bank</td>\n      <td>San Francisco</td>\n      <td>California</td>\n      <td>59017</td>\n      <td>JPMorgan Chase Bank, N.A.</td>\n      <td>May 1, 2023</td>\n      <td>10543</td>\n    </tr>\n    <tr>\n      <th>6</th>\n      <td>Signature Bank</td>\n      <td>New York</td>\n      <td>New York</td>\n      <td>57053</td>\n      <td>Flagstar Bank, N.A.</td>\n      <td>March 12, 2023</td>\n      <td>10540</td>\n    </tr>\n    <tr>\n      <th>7</th>\n      <td>Silicon Valley Bank</td>\n      <td>Santa Clara</td>\n      <td>California</td>\n      <td>24735</td>\n      <td>First Citizens Bank &amp; Trust Company</td>\n      <td>March 10, 2023</td>\n      <td>10539</td>\n    </tr>\n    <tr>\n      <th>8</th>\n      <td>Almena State Bank</td>\n      <td>Almena</td>\n      <td>Kansas</td>\n      <td>15426</td>\n      <td>Equity Bank</td>\n      <td>October 23, 2020</td>\n      <td>10538</td>\n    </tr>\n    <tr>\n      <th>9</th>\n      <td>First City Bank of Florida</td>\n      <td>Fort Walton Beach</td>\n      <td>Florida</td>\n      <td>16748</td>\n      <td>United Fidelity Bank, fsb</td>\n      <td>October 16, 2020</td>\n      <td>10537</td>\n    </tr>\n  </tbody>\n</table>\n</div>"
     },
     "execution_count": 21,
     "metadata": {},
     "output_type": "execute_result"
    }
   ],
   "source": [
    "tables[0]"
   ],
   "metadata": {
    "collapsed": false,
    "ExecuteTime": {
     "end_time": "2025-03-04T10:55:18.184331500Z",
     "start_time": "2025-03-04T10:55:18.124484400Z"
    }
   },
   "id": "8a64be1c781c198c",
   "execution_count": 21
  },
  {
   "cell_type": "code",
   "outputs": [],
   "source": [],
   "metadata": {
    "collapsed": false
   },
   "id": "fc2d7f11c282b0fb"
  }
 ],
 "metadata": {
  "kernelspec": {
   "display_name": "Python 3",
   "language": "python",
   "name": "python3"
  },
  "language_info": {
   "codemirror_mode": {
    "name": "ipython",
    "version": 2
   },
   "file_extension": ".py",
   "mimetype": "text/x-python",
   "name": "python",
   "nbconvert_exporter": "python",
   "pygments_lexer": "ipython2",
   "version": "2.7.6"
  }
 },
 "nbformat": 4,
 "nbformat_minor": 5
}
